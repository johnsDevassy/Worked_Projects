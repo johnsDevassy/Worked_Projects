{
  "nbformat": 4,
  "nbformat_minor": 0,
  "metadata": {
    "colab": {
      "name": "Twitter_analysis.ipynb",
      "provenance": [],
      "collapsed_sections": [],
      "authorship_tag": "ABX9TyMhhXGFYxLoI/2+4PRm97ki",
      "include_colab_link": true
    },
    "kernelspec": {
      "name": "python3",
      "display_name": "Python 3"
    }
  },
  "cells": [
    {
      "cell_type": "markdown",
      "metadata": {
        "id": "view-in-github",
        "colab_type": "text"
      },
      "source": [
        "<a href=\"https://colab.research.google.com/github/johnsDevassy/Worked_Projects/blob/master/Twitter_analysis.ipynb\" target=\"_parent\"><img src=\"https://colab.research.google.com/assets/colab-badge.svg\" alt=\"Open In Colab\"/></a>"
      ]
    },
    {
      "cell_type": "code",
      "metadata": {
        "id": "uXu1K9EqA__I",
        "outputId": "173ab696-4952-40af-f668-6d297b3fc875",
        "colab": {
          "base_uri": "https://localhost:8080/",
          "height": 187
        }
      },
      "source": [
        "!pip install tweepy\n",
        "import sys,tweepy\n",
        "import pandas as pd"
      ],
      "execution_count": 1,
      "outputs": [
        {
          "output_type": "stream",
          "text": [
            "Requirement already satisfied: tweepy in /usr/local/lib/python3.6/dist-packages (3.6.0)\n",
            "Requirement already satisfied: requests>=2.11.1 in /usr/local/lib/python3.6/dist-packages (from tweepy) (2.23.0)\n",
            "Requirement already satisfied: six>=1.10.0 in /usr/local/lib/python3.6/dist-packages (from tweepy) (1.15.0)\n",
            "Requirement already satisfied: requests-oauthlib>=0.7.0 in /usr/local/lib/python3.6/dist-packages (from tweepy) (1.3.0)\n",
            "Requirement already satisfied: PySocks>=1.5.7 in /usr/local/lib/python3.6/dist-packages (from tweepy) (1.7.1)\n",
            "Requirement already satisfied: urllib3!=1.25.0,!=1.25.1,<1.26,>=1.21.1 in /usr/local/lib/python3.6/dist-packages (from requests>=2.11.1->tweepy) (1.24.3)\n",
            "Requirement already satisfied: certifi>=2017.4.17 in /usr/local/lib/python3.6/dist-packages (from requests>=2.11.1->tweepy) (2020.6.20)\n",
            "Requirement already satisfied: chardet<4,>=3.0.2 in /usr/local/lib/python3.6/dist-packages (from requests>=2.11.1->tweepy) (3.0.4)\n",
            "Requirement already satisfied: idna<3,>=2.5 in /usr/local/lib/python3.6/dist-packages (from requests>=2.11.1->tweepy) (2.10)\n",
            "Requirement already satisfied: oauthlib>=3.0.0 in /usr/local/lib/python3.6/dist-packages (from requests-oauthlib>=0.7.0->tweepy) (3.1.0)\n"
          ],
          "name": "stdout"
        }
      ]
    },
    {
      "cell_type": "code",
      "metadata": {
        "id": "y5mVwpxY6aGj"
      },
      "source": [
        "apikey=\"V75GOhK6KVSbtJJE0r2IXBcHx\"\n",
        "apikeysec=\"akwFwthwrhESPStgZ7CCAndPxXSIU5nIkbkMPsQL1HHS777nYw\"\n",
        "api_token=\"AAAAAAAAAAAAAAAAAAAAAMdkHwEAAAAAm%2B9cWlQxyeuQeDAfaflLvg1tfO4%3DzTunnYo7QCZ0ehVWq8rEeS8TmcJsAvZn1z6gbnn5dlhzobgYmi\"\n",
        "beart=\"AAAAAAAAAAAAAAAAAAAAAMdkHwEAAAAAf5TpRN8A6uNS195wM9XexiXDQ90%3DtcCI6H0uTC7FjydZ3ETNscUT7B1J15po2EUYKu4Jl5c75T5l0i\"\n",
        "accesstoken=\"1303588439208722432-SZ3MJnyz7YYcG1sT8C3KlYwr6iYhRI\"\n",
        "accesstokensec=\"XhkWhhsT8KEGmPHWro87lwv620K1hH0Evu5qZkySEBW4F\""
      ],
      "execution_count": 4,
      "outputs": []
    },
    {
      "cell_type": "code",
      "metadata": {
        "id": "WIkfVo-fxbuZ"
      },
      "source": [
        "def getauth():\n",
        "  auth=tweepy.OAuthHandler(apikey,apikeysec)\n",
        "  auth.set_access_token(accesstoken,accesstokensec)\n",
        "  return auth\n",
        "  "
      ],
      "execution_count": 5,
      "outputs": []
    },
    {
      "cell_type": "code",
      "metadata": {
        "id": "XQHqDa7azTfC"
      },
      "source": [
        "auth=getauth()\n",
        "client=tweepy.API(auth,wait_on_rate_limit = True)\n",
        "\n",
        "df = pd.DataFrame(columns=['text'])\n",
        "msgs = []\n",
        "msg =[]"
      ],
      "execution_count": 6,
      "outputs": []
    },
    {
      "cell_type": "code",
      "metadata": {
        "id": "OBQSnWWo1PsB"
      },
      "source": [
        "for tweet in tweepy.Cursor(client.search,q='#oneplusnord -filter:retweets',rpp=100,lang='en').items(1000):\n",
        "  if not tweet.retweeted and ( \"RT @\" not in tweet.text):\n",
        "    msg = tweet.text\n",
        "    msgs.append(msg)"
      ],
      "execution_count": 7,
      "outputs": []
    },
    {
      "cell_type": "code",
      "metadata": {
        "id": "13xGqzXw7fqT",
        "outputId": "7824ddf1-2322-462f-e257-b21c0dc17df7",
        "colab": {
          "base_uri": "https://localhost:8080/",
          "height": 34
        }
      },
      "source": [
        "TotalTweets=msgs\n",
        "len(TotalTweets)"
      ],
      "execution_count": 8,
      "outputs": [
        {
          "output_type": "execute_result",
          "data": {
            "text/plain": [
              "297"
            ]
          },
          "metadata": {
            "tags": []
          },
          "execution_count": 8
        }
      ]
    },
    {
      "cell_type": "code",
      "metadata": {
        "id": "erxmIeHoEloq",
        "outputId": "2074b842-71a2-4c54-9f5a-75e216764198",
        "colab": {
          "base_uri": "https://localhost:8080/",
          "height": 1000
        }
      },
      "source": [
        "for i in range(len(TotalTweets)):\n",
        "  TotalTweets[i]=removepun(TotalTweets[i])\n"
      ],
      "execution_count": 9,
      "outputs": [
        {
          "output_type": "execute_result",
          "data": {
            "text/plain": [
              "['@OnePlus_IN \\nHey there! I am user of OnePlus NORD device since September 2020 you have been rolled out many updates… https://t.co/WKPEeAnWS3',\n",
              " \"@OnePlus_UK trying to get a new screen protector for Nord and you don't supply it for UK and irish customers?? Why… https://t.co/5GXmiqZHmm\",\n",
              " '#oneplus launcher or #novalauncher ? @OnePlus \\n#OnePlusnord',\n",
              " 'Night shoot #shotononeplus #OnePlusNord @OnePlus_IN #NaturePhotography    full moon https://t.co/NwQPOxXQdM',\n",
              " 'Hi, looking for #OnePlusNord reviews \\nHas anyone used this one?',\n",
              " 'View 🖤 #shotononeplus  #OneplusNord @OnePlus_IN #MumbaiT2InternationalAirport #NightscapeMode https://t.co/UcUjzVO2uW',\n",
              " '@oneplus @OnePlus_IN Thank you for Nightscape!\\n#shotononeplus #OnePlusNord https://t.co/wezsz5kTJL',\n",
              " 'Although I know you \"Never Settle\" but is there any way we can Settle this because I am not able to say No to No-Rd… https://t.co/9kQ0cVoqdT',\n",
              " 'This cricket season, love the sport and the medium! Shop at your nearest Croma store or visit:… https://t.co/xLbPv4yHe3',\n",
              " 'This cricket season, love the sport and the medium! Shop at your nearest Croma store or visit:… https://t.co/EFMJlhdZ05',\n",
              " 'just leaving it here! #OnePlusReferral https://t.co/iIrBfkVMHX\\n#NeverSettle #OnePlus8T #OnePlusNord #OnePlus8 #OnePlus8Pro',\n",
              " 'Selling the products I got with #OnePlusNORD pre-order. Totally unused and seal packed. DM me if interested in purc… https://t.co/SkrQ4Njvo3',\n",
              " \"@OnePlus_IN OnePlus Nord's battery backup is THE WORST!!!\\nAlso, 30k for a phone with this kind of camera lag is pat… https://t.co/VlsNIstk7S\",\n",
              " '#OnePlusNord comes with the same 48MP primary sensor as #OnePlus8, with optical image stabilization (OIS) to elimin… https://t.co/BI0dbe2IHW',\n",
              " 'Plz solve auto lock in next update for #OnePlusNord it was unlocked for long time. https://t.co/1bFIgIixS2',\n",
              " '#oneplusnord unboxing &amp; review 😊\\nhttps://t.co/rxyCaSyucO',\n",
              " 'One plus Nord 90Hz fluid AMOLED display VS Poco X2 120Hz LCD display.\\nSee how smooth Nord is.\\nFollow… https://t.co/qjIMb2Pe1D',\n",
              " 'Love is like a beautiful flower which I may not touch, but whose fragrance makes the garden a place of delight just… https://t.co/24FcJvbzdz',\n",
              " 'If Google prices the #Pixel4a around Rs. 30,000, the @Google Pixel 4a will be competing against the #OnePlusNord, w… https://t.co/DS4Rs8nHb0',\n",
              " '#war memorial for 20 #soilders martyred by #china who were unarmed. Next time you buy #xiaomi #OnePlusNord #realme… https://t.co/ZqfmaFJhte',\n",
              " 'One plus Nord makes One Plus 8 feels so bad on value-for-money. \\n#oneplus8 #oneplusnord #oneplusindia #techwithig https://t.co/wLMGqhpi7E',\n",
              " \"One plus Nord.\\nI have brought 2 month.\\nIt's having a Bluetooth issue, hanging issue.\\nWant to reward money\\n#OnePlusNord #OnePlus_in\",\n",
              " 'The best cases and screen protector for your Oneplus Nord: \\nhttps://t.co/hocrWJa1d0\\n\\n#nord #shotononeplus… https://t.co/Ir2Dl1ZvsT',\n",
              " '...and where ever I go, food always makes me happy\\U0001f970\\U0001f929❤️\\n.\\nShot On @OnePlus_IN @OnePlusNordAR @OneplusNord_IN\\n.\\nTag/M… https://t.co/zlI03wqhs0',\n",
              " \"Today I faced auto reboot issue in my #OnePlusNord    &amp; my phone didn't respond for  half an hour. Don't know what… https://t.co/Viw57Jp4tS\",\n",
              " '💥 #OnePlusNord 5G starting Rs.24999 + Flat Rs.1000 Instant Discount with ICICI Credit Cards\\n\\n👉… https://t.co/JSaFw5LeHr',\n",
              " 'Any reviews of OnePlus Nord? Is it worth the buy?\\n\\n#OnePlusNord #OnePlus #MobilePhones #Mobile #reviews #buy #Retail #Amazon',\n",
              " 'How #OneplusNord need suggestions\\n#Master #oneplus @OnePlus_IN',\n",
              " 'OnePlus Nord Gaming Test!!! budget gaming phone!!!\\nWatch: https://t.co/B4ZVXSHOlx\\n#oneplusbrings90fps #oneplusnord… https://t.co/BQvfM87G8O',\n",
              " 'New stable Oxygen OS update for the OnePlus Nord\\nChange Log ;\\nhttps://t.co/R6oLgCejUR \\n • Type: stable\\n • OPN [10.5… https://t.co/Qj4JzAWUld',\n",
              " 'https://t.co/WT7Ox6MAPL\\nMust watch it guyzz...  #Samsung Vs #OnePlus #nordVsM31s #OnePlusNord vs #samsungm31s… https://t.co/9AYhqy5xOE',\n",
              " 'Beside #OnePlus Nord, the company may launch a new budget smartphone in May \\nThere are only a few days left before… https://t.co/2qCvAGCRJ7',\n",
              " 'Hide and seek. #ShotOnOneplus #OnePlusNord https://t.co/IzQb73v8mH',\n",
              " 'OnePlus Nord, to Be Launched on 21 July, Revealed on Its Retail Box \\nOnePlus Nord will become official on July 21st… https://t.co/xbtYFR3UQk',\n",
              " 'Love you #Amazon \\nLove 💞 you #OnePlusNord \\nOnePlus Nord 5G (Blue Marble, 12GB RAM, 256GB Storage)\\n#AmazonSpinandWin… https://t.co/5HQcWzZ5m4',\n",
              " 'Right side famous one \\nLeft side upcoming famous\\nMiddle one is nirvana \\n.\\n.\\n#OnePlusNord #tecno… https://t.co/vOD97JCHDM',\n",
              " \"@Google Let's hope that #pixel #4a_5g will be launched in #India and at the price range of around #30k to be in com… https://t.co/grBolueFoX\",\n",
              " '@chi_ragnarock @BLRrocKS @CPBlr @dcpwhitefield @AddlCPEast @isha_pant With trending mobile on pocket #OnePlusNord \\U0001f92d\\U0001f92d\\U0001f92d',\n",
              " '@AjithShijith @OnePlus_IN @OnePlus_Support My loyality towards @oneplus is far gone. Pathetic customer support. No… https://t.co/1orrQl2Bmg',\n",
              " '#OnePlus8T will launch on #October14\\nThe #phone will have 91.9 percent screen-to-body ratio\\nOnePlus 8T to house 4,5… https://t.co/KkzDD5SPTv',\n",
              " '#OnePlusNord wins! 🏆 https://t.co/G43KkyLPgw',\n",
              " 'https://t.co/EdaKUpYLFd \\n\\nOneplus Nord When Arrive Android 11 and October Security update ? \\n\\n#OnePlus #Oneplusnord… https://t.co/9stDIhDrCO',\n",
              " 'OnePlus Nord Rolled Out Update Improve Camera &amp; Display Also For 7T &amp; 7Pro\\n#oneplusnord\\n #Oneplusnordupdate… https://t.co/AqLTwudHtK',\n",
              " '#OnePlusNord is powered by the Qualcomm® Snapdragon™ 765G 5G Mobile Platform with improved CPU speeds and 30% faste… https://t.co/0iQ1nyw4tK',\n",
              " 'Samsung Galaxy S20 FE 5G Vs OnePlus Nord Camera Comparison https://t.co/2r8zU2Hh1Q This surprised me! #OnePlusNord… https://t.co/TaWIjxlM2P',\n",
              " '@oneplus @OnePlus_IN\\nThank you for #OneplusNord #Preorder #giftbox\\nhttps://t.co/kileOXdKNY',\n",
              " 'Google Pixel 4a 5G vs OnePlus Nord 5G : Which is a better choice?\\n#googlepixel4a #OnePlusNord #comparison \\n\\nWhat ar… https://t.co/2EKvzShY9a',\n",
              " 'The #GrayOnyx of the #OnePlusNord has been my all time favourite. Drop in comments on your favourite color. Are you… https://t.co/RKYcgGWu8D',\n",
              " 'Device list launching in october\\nOct 6th : #POCOC3\\nOct 7th : #realme7i , #realme7proSE\\nOct 8th : #SamsungF41\\nOct 12… https://t.co/BP5h6egYNU',\n",
              " '@TechnicalGuruji  @OnePlus_IN  #OnePlusNord  #GuessTheSpecs #TGFamily I think it will have the sd865+',\n",
              " '@oneplus facing heating issues in #Nord \\nIs there any solution for that??\\nOr I have to regret?!!\\n@OnePlus_IN… https://t.co/0SZmCBl77W',\n",
              " 'Wish to win #OneplusNord \\U0001f97a🤞🏻\\n\\n#AmazonSpinandWin @amazonIN https://t.co/1EYzZvUdbi',\n",
              " '#OnePlus8T5G #OnePluswatch #OnePlusBudsZ #OnePlusNord #oneplus\\n\\nOnePlus to launch 5 Products on 14th October \\n\\n*One… https://t.co/EW6Vu3ylhr',\n",
              " 'Device list launching in october\\nOct 6th : #PocoC3\\nOct 7th : Realme 7i, Realme 7 Pro SE\\nOct 8th : Samsung F41\\nOct 1… https://t.co/Z78aKLOQXZ',\n",
              " 'OnePlus posted a promo on its social media channels, suggesting that the new members of the #OnePlusNord series wil… https://t.co/SYFVCVas3z',\n",
              " '@oneplus @OnePlus_IN @OnePlus_Support \\nHello\\nSound is constantly breaking on bluetooth headphone or in car. Also la… https://t.co/v7C5SG5ke1',\n",
              " '@TechTabletscom @SamsungMobile @oneplus I prefer the #OnePlusNord pics.',\n",
              " '@OnePlus_Support @oneplus @OnePlus_IN #OnePlusNord  is not tested properly... Hundreds of glitches...',\n",
              " 'So which is better here? Left - OnePlus Nord #Oneplusnord Right - Galaxy S20 FE 5G #s20fe https://t.co/Sw7fgrFDSF',\n",
              " '#fullmoon @OnePlus_IN #oneplusIndia #OneplusNord Nightscape mode #OnePlus https://t.co/y6tbblwRc7',\n",
              " 'September security update arrives for the OnePlus 7 series and OnePlus Nord .\\n\\n#OnePlus #OnePlus7series… https://t.co/PS4y5RLBe8',\n",
              " 'I’m not sus!!\\n#AmongUs #Kemo #Haru #Hari #Hachi #KemoHero #OnePlusNord https://t.co/KbUhCM9YQz',\n",
              " 'OnePlus Nord, OnePlus 7 Series Oxygen OS Update Brings September 2020 Security Patch, Other Optimisations… https://t.co/id3hbi9eiV',\n",
              " '#OnePlusNord Now Available 🔥\\n\\nLink : https://t.co/XFAOd8v6V5 https://t.co/tIC5YQwS2e',\n",
              " 'September security update arrives for the OnePlus 7 series and OnePlus Nord \\n\\n#OnePlus #OnePlusNord #OnePlus7 https://t.co/0F2lpFBxGe',\n",
              " 'Google launched the Pixel 5g series. Truly amazing phones. Was looking forward to buying one, unfortunately India i… https://t.co/7nLExM2lNX',\n",
              " '#OnePlusNord comes with the same 48MP primary sensor as #OnePlus8 with optical image stabilization (OIS) to elimina… https://t.co/8Vuiwrwm52',\n",
              " '@OnePlus_IN will #OnePlusNord support 65W charging?',\n",
              " 'September security update arrives for the OnePlus 7 series and OnePlus Nord https://t.co/5pikM4T0Rj\\n\\n#OnePlus… https://t.co/XX7c53ZNbR',\n",
              " 'OnePlus Nord 5G (Blue Marble, 12GB RAM, 256GB Storage)\\n48MP+8MP+5MP+2MP quad rear camera with 1080P Video at 30/60… https://t.co/NdWSfo5GsQ',\n",
              " '#OnePlusNord gets #OxygenOS 10.5.8\\n#OnePlus7 series gets OxygenOS 10.3.5\\n#OnePlus #Nord image stabilisation… https://t.co/iDAdqRORDS',\n",
              " 'Using #OnePlusNord  really awesome phone with 12 GB Ram and 256 GB storage. With very smooth gaining experience esp… https://t.co/jW1GJ9kPUr',\n",
              " 'One of the best smartphone #oneplusnord https://t.co/mM2REkb2ld',\n",
              " '#OnePlusNord in stock\\n\\nLink : https://t.co/GIST2DfAgp',\n",
              " \"@OnePlus_Support #oneplus is a fraud company.. pleasy don't buy.. #cheaters #OnePlusNord @oneplus @OnePlus_IN @PeteLau @Vikas_AGL\",\n",
              " 'The updates keep rolling in. #OnePlusNord https://t.co/6METvkLPW2',\n",
              " 'OnePlus Nord Lite 5G - Best 5G Smartphone . OnePlus Nord Lite . Coming Very Soon . Upcoming Devices\\n\\nVideo link -… https://t.co/MLGosrT4SF',\n",
              " \"Oneplus Nord's new update with all the features and changes watch it here:\\nhttps://t.co/VpVqPDPrn2\\n\\n#nord… https://t.co/tdSFWsBYIY\",\n",
              " '#OnePlusNord Vs #GalaxyS20FE camera comparison WIP. 34 degrees c stunner of a day for it! https://t.co/DeVRZXZE4i',\n",
              " 'OxygenOS update brings Sept security patch to #OnePlusNord, #OnePlus7 series https://t.co/NyiN4ueWRH',\n",
              " '@OnePlus_IN \\nNot a good editing by me. Infact it is terrible. But ni judgements in #TheOnePlusWorld \\nWearing matchi… https://t.co/OzhWbDsxVO',\n",
              " '#OnePlusNord Available in Stock\\n\\n Rs.24,999 : https://t.co/DPegNeO0gW\\n\\n  8GB + 128GB (Grey) :… https://t.co/4bC2Qy5aHp',\n",
              " '#oneplusIndia #oneplusworld #OnePlusNord Sir there is many problems in OnePlus Nord camera.\\nlow light photo no good… https://t.co/p3fkjYtMrY',\n",
              " \"#OnePlusNord\\n\\n64GB variant @25k releasing in September..!!!\\n\\nDon't ask me which year.. 🤣🤣🤣\",\n",
              " '📱OnePlus Nord owners in India have started receiving OxygenOS 10.5.8 update with improvement in performance and And… https://t.co/Pw30WL10pz',\n",
              " '@oneplus @OnePlus_Support\\nTwo major issues while using OnePlus Nord.\\n1. Null when using Microsoft Teams call  on sp… https://t.co/wZ96aCuShj',\n",
              " 'Aesthetic Yellow.\\n#shotononeplus \\n#shotonnord\\n#OnePlusNord \\n#soop\\n@OnePlus_IN \\n@oneplus https://t.co/g4bAjvRYWZ',\n",
              " 'New Video: Google Pixel 5 Vs OnePlus Nord - Comparison\\nVideo Link: https://t.co/au0ByFitty\\n#Pixel5 #OneplusNord… https://t.co/8hW6R4AtYq',\n",
              " 'Waiting for OnePlus 8T 5g \\nDisplay - 120hz amoled\\nCamera - 64 MP main +16+5+2\\nCharging - Warp charge 65\\nPerformance… https://t.co/GVxDvRJ03l',\n",
              " \"@Moulizzzz1 @oneplus @OnePlus_IN @amazonIN I didn't face any issues that people are discussing over here and other… https://t.co/21HVLEx6rx\",\n",
              " 'OxygenOS update brings Sept security patch to OnePlus Nord, OnePlus 7 series \\n#OnePlusNord #OnePlus7 #OnePlus7Pro\\nhttps://t.co/NyiN4uwygh',\n",
              " 'The OnePlus Nord camera and display get improved thanks to a new update. The security aspect has also been boosted.… https://t.co/HVN6M8fCuR',\n",
              " 'OnePlus Nord N10 5G new smartphone of nord series is coming very soon\\nhttps://t.co/gCR8mliUhs\\n#TheOnePlusWorld… https://t.co/JrwCnZmj36',\n",
              " 'Eligible to win #OneplusNord in #AmazonQuiz\\n@amazon\\n@amazonIN https://t.co/J6gMgJ9Y8U',\n",
              " \"...and meet me soon. \\U0001f97a😭💔\\n.\\nShot On @OnePlus_IN @OneplusNord_IN\\n.\\nTag/Mention a friend who'll love it🙊\\n.\\nFollow➡️… https://t.co/lYPeUgZX6C\",\n",
              " 'Thanks to $UNI and @tenxwallet, sold 1/3 airdropped tokens near $6 and got a #OnePlusNord. Fantastic phone! https://t.co/PanH9Amz84',\n",
              " '#AmazonSpinandWin \\nnew contest \\nDone! \\n🤞🏻\\n#OnePlusNord https://t.co/FbbbZfkPZA',\n",
              " '@oneplus @OnePlus_IN @OnePlus_Support @PeteLau minimum courtesy to at least acknowledge and reply?\\n\\n#OnePlusNord… https://t.co/euwJia4rWn',\n",
              " 'OnePlus Nord N10 5G leaked price ,features https://t.co/d3AXofJbfC #OnePlusNord #OnePlus',\n",
              " 'Tell us your favourite among these!\\n\\n#MostSearchedProducts #Bestindisplayfingerprintsensorphones… https://t.co/7wLXhnXVkU',\n",
              " 'So , here is the #OnePlusWorld Complete VR Experience For Their Devices 😀\\n\\nAmazing 😍\\n\\n#OnePlus8T #OnePlusNord… https://t.co/rPP4fr1zvd',\n",
              " 'OnePlus nord new updates 10.5.8\\n#OnePlusNord  @oneplus https://t.co/K1FBXSZVbn',\n",
              " 'Bomb dropped ! 37k it is ! Just buy! Worth the deal than a #OnePlusNord ! Stock #Android offering cannot get better… https://t.co/E6jIuiJb2r',\n",
              " \"#OnePlusNord's built-in screen recorder is great, it can record up to upscaled 4K (Not native!) even with just Snap… https://t.co/Vjw5lPjMcU\",\n",
              " '@Dave2D They clowned us! Definitely not a good upgrade! Try #OnePlusNord or #Mi10Ultra',\n",
              " '#OnePlus presents #OnePlus8Pro with 120Hz Fluid Display, Snapdragon™ 865 with 5G, Slim and Sleek Curved Design, War… https://t.co/QDF4nQrws4',\n",
              " '@OnePlus_IN #OnePlus is detective. No browser works in #OnePlusNord. Stay away from @OnePlus_IN @oneplus',\n",
              " \"Looking for a new mobile, I'm liking #OnePlusNord or is there something better in that price bracket? (UK)\",\n",
              " '@thenutrigurl Really  #OnePlusNord  Back is Polycarbonet????? Please Reply. I am Confused. https://t.co/luC9njZiQG',\n",
              " 'New #OnePlusNord update.. 10.5.8.. around 280mb.. https://t.co/1Yu9H1SwTi',\n",
              " \"How come there's no other chinese brand launching SD765/SD765G powered phone except OnePlus with Nord?\\n\\nKuch to gad… https://t.co/ZmSzbnz9Tq\",\n",
              " '@abhishek I think most people would like to see a comparison between  #OnePlusNord vs #pixel4a5G  so please try to… https://t.co/dhN22Ehc0u',\n",
              " '@OnePlus_IN Do not buy @OnePlus_IN @OnePlus_Support @oneplus pathetic they are &amp; worst they have the services.\\nI am… https://t.co/eGAylrTLRc',\n",
              " 'OnePlus Nord, to Be Launched on 21 July, Revealed on Its Retail Box \\nOnePlus Nord will become official on July 21st… https://t.co/RtgSUtPLVv',\n",
              " 'Back In Stock \\n\\nOnePlus Nord 5G (Gray Onyx, 12GB RAM, 256GB Storage) for ₹29,999/- Only \\n\\nLink:… https://t.co/9ZpEIAMcu1',\n",
              " 'OnePlus 8T - EVERYTHING YOU NEED TO KNOW!\\n\\n https://t.co/kxlJ8R4wGt via @YouTube \\n\\n#OnePlus8T5G  #oneplus8tpro… https://t.co/mj4pzSEkGn',\n",
              " '@oneplus I have the #OnePlusNord already, can I have the buds please? 😭',\n",
              " 'Lonely💫 #SOOP #OnePlusNord https://t.co/FXzT4l5Fm0',\n",
              " 'Opera with Shells 🌊🐚#SOOP #OnePlusNord https://t.co/OxekXXTEG8',\n",
              " '#OnePlusNord comes with the same 48MP primary sensor as #OnePlus8, with optical image stabilization (OIS) to elimin… https://t.co/3Kh2CzAgnZ',\n",
              " 'Stormed Up🤘 #SOOP #OnePlusNord https://t.co/oLtyLHhiBE',\n",
              " 'Bounce back UPPPP!!! #SOOP #OnePlusNord https://t.co/PERgt9eEE7',\n",
              " \"@Sudhanshu1414 If it would come to India then it's pretty much reply to @OnePlus_IN for #OnePlusNord\\nBut we do know… https://t.co/MxLeskndst\",\n",
              " '@abhishek It proves india is still a developing country, since @GoogleIndia @XiaomiIndia @realmemobiles… https://t.co/atEAVJWZPb',\n",
              " \"@OnePlus_UK If you're planning to get any oneplus phone (Including #OneplusNord or #Oneplus8T) use this link to get… https://t.co/bhbD2zKWxY\",\n",
              " 'OnePlus teases the budget smartphone Nord N10 coming soon, ditches the OnePlus 8T Pro. #technews #OnePlusNord… https://t.co/tEYKFL1aze',\n",
              " 'There is an issue with OnePlus Nord Camera. It works fine when you take a normal video. But it starts Flickering wh… https://t.co/UAJaaRFYuE',\n",
              " '@OnePlus_USA Keeping it clean #OnePlusNord https://t.co/lUkbckEALE',\n",
              " 'I am playing Love Live! All Stars on #OnePlusNord and testing in-game Graphics Boost Mode on this phone. Even with… https://t.co/t5yQBreM1a',\n",
              " 'There no greater warrior than mother Protecting her child.\\n#ShotOnOneplusNord #ShotonOnePlus #OneplusNord… https://t.co/6fCgIBaLam',\n",
              " \"...and chat lover\\U0001f929\\n.\\nShot On: @OnePlus_IN\\n.\\nTag/Mention a friend who'll love it🙊\\n.\\nFollow➡️ @walkwithtaste if you a… https://t.co/8qcB5JQ5IP\",\n",
              " 'Oneplus Teased a new Nord Series Smartphone Coming Soon on Instagram.\\n\\n#Oneplus #OnePlusNord #OnePlusNordN105G… https://t.co/wXW9LIWgRe',\n",
              " 'Which one will you pick?\\nLet us know in the comments below.\\n\\nFollow @techGalena\\n\\n#TechNews #Tech #Technology… https://t.co/YcqBiAmDSW',\n",
              " 'New phone ❤😍\\n#OnePlusNord https://t.co/VmqhjrgPlA',\n",
              " \"Very impressed with the #OnePlusNord Had to get a new phone as my old one was starting to show it's age. I treated… https://t.co/AkelIJjZ7u\",\n",
              " 'Remember when the first oneplus came out and @getpeid was in San Francisco launching and explaining the product, co… https://t.co/jEYJvDw1uB',\n",
              " 'Every sunset is an opportunity to reset..\\n#RESTART \\nCaptured in📸 #OnePlusNord  @OnePlus_IN https://t.co/L0FBtzBZUL',\n",
              " 'Shot in #oneplusnord \\nShot by K.S.Wattson\\n#adobelightroom https://t.co/CrYeeIyqK1',\n",
              " 'OnePlus Nord N10 expected to launch soon as company shares a new smartphone teaser\\n\\nfor more information visit :… https://t.co/TvdzuPO7LM',\n",
              " 'This is totally unacceptable from such a reputable company, that too which I honestly adore so much. I am really an… https://t.co/btxn5VDM3R',\n",
              " 'I bought my first Oneplus phone the #OnePlusNord on 25th August from @amazonIN. I chose @oneplus  as I liked how we… https://t.co/nnTniTk048',\n",
              " 'Taken with #OnePlusNord. Pro mode. #ShotonOnePlus https://t.co/jxcggIZiWI',\n",
              " \"OnePlus Nord official account has teased new smartphone, it can be OnePlus Nord N10 and it's expected to launch in… https://t.co/rqYp01b6ju\",\n",
              " 'OnePlus Nord and OnePlus Buds Combo 😍💙\\u2063\\n\\u2063.\\n.\\n\\u2063.\\n#oneplusnord #oneplusbuds #oneplus #oneplusfamily #shotononeplus… https://t.co/uSkDs0XWBn',\n",
              " '💥 #OnePlusNord 5G (64GB + 6GB RAM)  now available at Rs.24999\\n👉 https://t.co/BdbaoEcNbr https://t.co/8PwoP6wqBz',\n",
              " 'I won this Quiz @amazonIN @amazon @OnePlus_IN @oneplus #Quiztimemorningswithamazon #AmazonIndia #7thOctober2020… https://t.co/rvzeZOnirU',\n",
              " '#AmazonFunzoneSlots\\nNeeded nord for my way \\n#AmazonQuiz \\n#oneplusnord \\nWish to win 🤞 https://t.co/fhZmmble5e',\n",
              " 'I won this Quiz @amazonIN @amazon @OnePlus_IN @oneplus #OnePlusNord #AmazonQuiz #Quiztimemorningswithamazon… https://t.co/xUrVqsGIF7',\n",
              " 'OnePlus Nord 5G Now Available In Stock For Just Rs 24,999 (Limited Stocks Left)\\n\\nLink: https://t.co/vNe07Zha5a… https://t.co/PnhVWgiZIr',\n",
              " 'OnePlus teases the budget smartphone Nord N10 coming soon, ditches the OnePlus 8T Pro. #technews #OnePlusNord… https://t.co/wPbyI8UAOY',\n",
              " '#SOOP \\n#OnePlusNord \\n@oneplus @OnePlus_IN NIGHTSCAPE📸 https://t.co/0uGUFSLChz',\n",
              " 'OnePlus starts recruiting testers for OnePlus Nord OxygenOS Closed Beta program\\n\\nhttps://t.co/waO0Hp9Pwv\\n\\n#OnePlus… https://t.co/KxXZNAsvyl',\n",
              " '@OnePlus_IN Must give free one plus to every one plus users especially to me everytime you launch new one plus 😀… https://t.co/qUK6SOUvlf',\n",
              " 'Nightscape view from Zero Bridge, #Kashmir. Shot on #OnePlusNord. https://t.co/xDfSQoTz9H',\n",
              " 'OnePlus Teases New Nord Smartphone is Coming Soon\\n\\n#OnePlus #OnePlusIndia #OnePlusNord #Teases #ComingSoon https://t.co/rsR3VAi3RI',\n",
              " 'Shot on #OnePlusNord https://t.co/O94u74mUBj',\n",
              " 'Latest &amp; Intresting tech news \\n#TechNews #realme7i #xiaomimi10tpro #xiaomimi10t\\n#OPPOTV #OnePlusNord\\nhttps://t.co/zPNJOLqhhc',\n",
              " 'New phone in the house.😍😍\\n@stufflistings @StyleListings @techo_aj \\n#Oneplusnord https://t.co/gi2BagBa18',\n",
              " '@oneplus Totally confused in buying #OnePlusNord with #Pixel4a  What you guys suggest will be better.',\n",
              " '@SamsungIndia Can you guys suggest me the best samsung phone which beat #OnePlusNord  in every aspects.',\n",
              " 'Samsung Galaxy M51 vs Oneplus Nord - 7000 mAh clear winner, but what about other specs? #GalaxyM51… https://t.co/cDAR4kTEzU',\n",
              " 'Anything you guys wanna know about the #Pixel4a Vs #OnePlusNord?\\n\\nHit me up with your questions! 👊',\n",
              " \"The #OnePlusNord could soon add another phone to its line-up alongside the #OnePlus8T \\n\\nHere's what we know-… https://t.co/nruaj48cq8\",\n",
              " '#OnePlusNord 10 is coming soon . \\nCompany hinted another midrange phone this #October2020 . Only this time it comes… https://t.co/FhNIJ9Zgir',\n",
              " 'Why the #Pixel4a is better than the #OnePlusNord 👀\\n\\nWhy the Nord is better than the 4a \\U0001f9d0\\n\\nPixel 4a full review 🔥… https://t.co/pIE2KpFBRu',\n",
              " 'Red Cable Club by OnePlus|| OnePlus Nord Unboxing.\\nPerks and benefits😁 given to OnePlus red cable club members.… https://t.co/LkuloeXCvT',\n",
              " 'Daily Tech News #304 hindi 👇\\nhttps://t.co/dxTLhefAzS\\n#MiWatchRevolve #OnePlusNord #oppotv',\n",
              " 'I have #OnePlusNord  But the call recorder on my mobile phone is not working and I ask you to explain the solution @oneplus @OnePlus_IN',\n",
              " 'Highlight - OnePlus Nord N10 5G is tipped to launch soon after OnePlus 8TThe affordable OnePlus phone will reported… https://t.co/tM5EgR9Jo9',\n",
              " 'Rumored to be priced under 30k(leaks)\\n.\\n.\\nNever want to miss an update? Follow @informazio_ for Latest News updates… https://t.co/W79ANrZwxD',\n",
              " 'OnePlus seems to be getting ready to announce a new Nord smartphone. Is it the Snapdragon 600 or 400 series device?… https://t.co/Cr0mlP3nGH',\n",
              " \"The OnePlus Nord Android Beta program is here, but chances are you won't be able to participate.… https://t.co/A0hVu0ubWI\",\n",
              " 'The launch of a new member📱in the @OneplusNord_IN family could be along with OnePlus 8T on October 14.… https://t.co/8ghBUi2W1Q',\n",
              " '#leaks #OnePlus8T5G #OnePluswatch #OnePlusBudsZ #OnePlusNord #oneplus\\n\\nOnePlus gonna launch 5 Products on 14th Octo… https://t.co/adEIFX9atN',\n",
              " 'A new Nord coming soon..\\n#oneplus #OnePlusNord #oneplusnordli https://t.co/m16XREpKPf',\n",
              " '@OnePlus_IN  This is the best phone under 30K. #oneplusnord @PeteLau @oneplus. https://t.co/PEstU0gnoc',\n",
              " \"@complacentsandy @GoogleIndia @Google @Flipkart I'm waiting for #Pixel4a for 2months now. IDK how much longer I hav… https://t.co/njbctUWkj1\",\n",
              " 'Is this OnePlus Nord N10 5G (Billie) ?\\nRumoured specifications 📝\\n6.49\" FHD+ display\\n90Hz refresh rate\\nSnapdragon 69… https://t.co/ubxYvEYMmQ',\n",
              " 'Hey @GoogleIndia n @Google atleast reveal the price n release date of #pixel4a in India.\\nPatience is running out of… https://t.co/0oxOdH19Z2',\n",
              " 'Is this OnePlus Nord N10 5G (Billie) ?\\nRumoured specifications 📝\\n6.49\" FHD+ display\\n90Hz refresh rate\\nSnapdragon 69… https://t.co/Crq7XI2zLp',\n",
              " 'OnePlus Nord 5G Unboxing \"Camouflage Edition\" 🔥🔥😮\\n#OnePlus #OneplusNord\\nCheck out now ⬇️⬇️⬇️\\nhttps://t.co/qhkBI4j6qs https://t.co/HFCjICkTY1',\n",
              " '#OnePlus teases a new #Nord #smartphone is coming soon\\n@OnePlus_IN #OnePlusNord \\n https://t.co/bLGUhIh8zj',\n",
              " 'Same Design available for 350+ Models \\nShop all latest designs at https://t.co/sE9Rhj7jKi\\n\\n#customera #mobilecover… https://t.co/DPMhvW3WeT',\n",
              " 'beautiful morning with nice shot... \\n\\n#shotononeplus #shotononeplusnord @OnePlus_IN #TuesdayMotivation #OnePlusNord… https://t.co/tW82G5IX3v',\n",
              " 'Another OnePlus Nord is coming soon guys😋😃....\\n#OnePlus\\n#OnePlusNord https://t.co/FupPTIGW7w',\n",
              " 'Is OnePlus teasing Oneplus Nord N10 5G ? \\nSwipe left on the images to know some of its key specs\\n\\n#OnePlusNord… https://t.co/pWiJ52OYEc',\n",
              " 'So its almost cleared now\\nOnePlus gonna launch 5 Products on 14th October in OnePlus 8T 5G launch event\\n\\n*OnePlus8T… https://t.co/RfWpokHguQ',\n",
              " '💥 #OnePlusNord 5G (64GB + 6GB RAM)  now available at Rs.24999\\n👉 https://t.co/JvfDJfV5HX https://t.co/wakK6GKnxd',\n",
              " '#SOOP \\n#OnePlusNord \\nJust look at the sky guys https://t.co/SGFt5RbHeb',\n",
              " 'OnePlus teases OnePlus Nord N10 5G ahead of October 15 event #OnePlusNordN10 #5G #OnePlusNord #OnePlus #news #leak… https://t.co/aAHYZUZeli',\n",
              " 'Just finished editing the camera comparison between #POCOX3 and #OnePlusNord. Super happy with the result!! Video w… https://t.co/TqVloeuydk',\n",
              " 'OnePlus teases a new Nord smartphone is coming soon https://t.co/2NeGoRzrWy\\n\\n#OnePlus #OnePlusNord https://t.co/NpR8f0lul9',\n",
              " \"Eagle's early eye view !  #SOOP  #OnePlusNord  #NaturePhotography \\n@oneplus https://t.co/gF0Ui3tNa4\",\n",
              " 'Into the galaxy !  #SOOP  #OnePlusNord \\n@oneplus https://t.co/KalLwRvLyM',\n",
              " 'OnePlus Nord Will Cost Under $500, Pre-Orders Starting Tomorrow \\nOnePlus has managed to create a fair amount of ant… https://t.co/d2QYkyIzOM',\n",
              " 'New OnePlus NORD Smartphone is Incoming 😍🔥\\n\\n#OnePlus #OnePlusNORD #OnePlusNord5G #OnePlusNORDN10 #OnePlusNordN105G https://t.co/KDgXAIMd4g',\n",
              " 'Ordered a #OnePlusNord using @OnePlus_IN web. Phone was dispatched by @BlueDart_  but suddenly was returned to the… https://t.co/i1h6HoEs9k',\n",
              " \"@ishanagarwal24 did you check out the #Pixel4a rates on #AmazonIndia?! Wasn't this phone introduced to compete agai… https://t.co/NBqBo0mBFi\",\n",
              " 'So I only went and bloody won! 😱 Confirmation email from OnePlus landed in my inbox this afternoon - time for anoth… https://t.co/wbaKgUAQPn',\n",
              " 'Onplus Nord vs Samsung galaxy m51 by TamilTech\\nhttps://t.co/LNn39vGifD\\n#TamilTech \\n#SamsungM51 \\n#OnePlusNord',\n",
              " '@cdnfarmer1 Is macro lens is accessible in pro mode of #OnePlusNord?🙄',\n",
              " 'Another OnePlus Nord Series Smartphone is going to Launch Soon\\n\\n#OnePlusNord #OnePlus #OnePlusNord5G https://t.co/YaYOvDI8Qj',\n",
              " 'Another Nord?\\n#oneplus #OnePlusNord https://t.co/6uZoGnak59',\n",
              " 'Another Nord coming soon?\\n#OnePlus #OnePlusNord #OnePlusNordN10 https://t.co/dpLJgqQEiO',\n",
              " 'OnePlus Nord instagram hinted another Nord phone.\\nAre you ready for it?\\n@oneplus @OnePlus_USA @OnePlus_IN… https://t.co/vlasqGOr5F',\n",
              " '@oneplus \\nDear oneplus team\\nI need a phone for my forward education because recent one was destroyed ...\\nPlease its… https://t.co/hEFLfgb2nA',\n",
              " 'Its a special edition #OnePlusNord.\\n\\nhttps://t.co/M4pQ5sXFdq https://t.co/thXLyloAJP',\n",
              " 'OnePlus Nord instagram post hinted another Nord phone.\\n\\n#OnePlusNord #OnePlus https://t.co/ifrBWmFoVu',\n",
              " '@OnePlus_IN Hi my OnePlus Nord is start heating after 5.7 update and battery draining is  very fast also my interne… https://t.co/5qdQsLlwWv',\n",
              " 'New #OnePlusNord teased...\\n🔥🔥\\n#TFNews https://t.co/3PVJCIYNQk',\n",
              " \"One more Nord?\\nLet's see......\\n#NORD #OnePlus #OnePlusNord https://t.co/YfYCbdkA5m\",\n",
              " '@OnePlus_Support Hi my OnePlus Nord is start heating after 5.7 update and battery draining is  very fast also my in… https://t.co/AFsZVvBdEv',\n",
              " 'Another OnePlus Nord Series Smartphone Launch Soon\\n\\n#OnePlusNord https://t.co/s5o6vKOA6V',\n",
              " '@oneplus @_oneplusnord Hi my OnePlus Nord is start heating after 5.7 update and battery draining is  very fast also… https://t.co/mYeSyTB8no',\n",
              " 'Another Nord?\\n#oneplus #OnePlusNord https://t.co/AduBZU4QbL',\n",
              " 'finally \\n\\n#OnePlusNord 6GB &amp; 12GB Variants in stock\\n\\nhttps://t.co/5GJcg4k4tL',\n",
              " '@OnePlus_IN This is mine!!...shot in Vizag,India\\n#SOOP\\n#OnePlusNord https://t.co/DESHBkMDyj',\n",
              " '@OnePlus_IN #SOOP captured on #oneplus7 \\n#OnePlusNord5G #OnePlusNord \\n\\n@oneplus @OnePlus_IN @OnePlus_Support… https://t.co/HXckcp37cH',\n",
              " \"Nature's call.\\n#SOOP #OnePlusNord https://t.co/Db9sPaCqXw\",\n",
              " '@oneplus Out of the car window\\n#SOOP #OnePlusNord https://t.co/4rrBSnprJ9',\n",
              " 'Confused between the #OnePlusNord or the #OnePlus8 ? \\nWatch this to select the right smartphone for you:… https://t.co/dQhwU8xWf0',\n",
              " '#OnePlusNord 6GB &amp; 12GB Variants in stock\\n\\nLink : https://t.co/nVLlZx4s9Y',\n",
              " 'Watch Full Video And Know The Comparison Of #SamsungM51 &amp; #OnePlusNord  https://t.co/AObDb4otjZ\\n\\n@TamilTechOffici',\n",
              " 'Samsung Galaxy M51 vs iPhone SE vs OnePlus Nord : SpeedTest, Benchmarks and Camera Comparison. Here’s the link of t… https://t.co/ZGOGstZTRd',\n",
              " '@oneplus Captured on #OnePlusNord #SOOP https://t.co/0JlODSmsc0',\n",
              " \"Daaaamn! That was quick AF! 😭😂😭😂 I'm gonna miss my #OnePlusNord 😭😭😭 https://t.co/OWr33UhOlm\",\n",
              " \"...and I guess I love spicy more than sweet. \\U0001f929\\U0001f970😅\\n.\\nShot On: @OnePlus_IN\\n.\\nTag/Mention a friend who'll love it.\\U0001f929\\n.\\nF… https://t.co/6Y4Sw0e2i3\",\n",
              " 'Hey @oneplus , @OnePlus_IN Can you please solve the Call Recording issue in #OnePlusNord 🙏',\n",
              " 'OnePlus Nord \\n\\n6/64GB - Black - Available Now \\n\\n₹24,999 - https://t.co/uTbstw0tW9\\n\\n#GadgetsFlixDeals #OnePlusNord… https://t.co/3DrX2Kis6n',\n",
              " '[In Stock] OnePlus Nord 🔥\\n\\n✅Black 8gb 128gb : \\nhttps://t.co/UaxetWnHrH\\n\\n✅Blue 8gb 128gb : \\nhttps://t.co/Tjiwy6fGzw… https://t.co/piTB9nEgwn',\n",
              " 'Its pink &amp; purple in the skyy  #SOOP #OnePlusNord https://t.co/Q6Y1K6TNfc',\n",
              " 'Golden Sky 💛 #SOOP #OnePlusNord https://t.co/cAhiPNOB5R',\n",
              " 'Any #OnePlusNord users? \\n\\n#Master',\n",
              " '#OnePlusNord  - IN STOCK\\n\\nhttps://t.co/p25G9KWup7',\n",
              " 'OnePlus Nord 6GB RAM Variant To Go On Sale in India Today at 2PM\\n\\n#OnePlusNord #OnePlus #OnePlusIndia https://t.co/T6gAkazYuN',\n",
              " '#OnePlusNord sale on #Amazon today!https://t.co/MtNXVh7LFF\\n#oneplus #OnePlus8 #Smartphones #Sales #discount #Deals… https://t.co/34q1mLhhxP',\n",
              " '#SOOP Shot On my #OneplusNord these pictures are amazing clarity #Thanku https://t.co/zvOuNFPw5v',\n",
              " 'Hello @OnePlus_IN  &amp; @oneplus \\n\\n#OnePlusNord preorder is a luck draw?\\nI have purchased both preorder and pre-booked… https://t.co/TDwPZ7qFjT',\n",
              " 'Visit with a dragon ...a Dragonfly 😃 it was about to wipe its eyes. #ShotonOnePlus #OnePlusNord pro mode. Time to r… https://t.co/XySEgA8P8E',\n",
              " '#OnePlusNord Available in Stock.\\n\\nLink : https://t.co/0VCDlr510L',\n",
              " 'OnePlus Nord 6GB RAM model to go on sale today at 2PM via @amazonIN\\n\\nhttps://t.co/bIPlvq35Fd\\n\\n#OnePlus #OnePlusNord https://t.co/jgwMhd5M5v',\n",
              " 'OnePlus Nord 6GB RAM Model To Go On Sale Today At 2PM on Amazon India.\\n\\n#OnePlus #OnePlusNord \\n@OnePlus_IN… https://t.co/QPMKHuPEB2',\n",
              " 'If you in THE UK and looking for a preowned #OnePlusNord... The time is now lol #EbayWarrior #Ebay \\n\\nhttps://t.co/No1qyyKaNh',\n",
              " \"Today's Smartphone Flash Sales @ 12 PM\\n\\nRealme Narzo 20 From Rs 10499  \\n\\nhttps://t.co/ARfWO94Rdp\\n\\nRealme 7 Pro… https://t.co/zw72ZPxaME\",\n",
              " 'OnePlus Nord 6GB RAM model to go on sale today at 2PM: Check offers, price \\n\\n#OnePlus #OnePlusNord #Amazon\\n\\nhttps://t.co/0poDkpuu8P',\n",
              " 'Expecting launch of \\n\\n- OnePlus Watch\\n- OnePlus Buds lite\\n- OnePlus 8t\\n- Nord lite or clever\\n- OnePlus Power Bank… https://t.co/ZC6DyHZTA4',\n",
              " '@amazonIN @OnePlus_IN #ICYMI The #OnePlusNord may not be the best at everything, but it does combine a lot of good… https://t.co/52vB3V6kHe',\n",
              " 'Priced at Rs 24,999, #OnePlusNord 6 GB RAM variant will go on sale today at 2 pm on @amazonIN. @OnePlus_IN \\nhttps://t.co/h4Zynoy7VK',\n",
              " \"What If You aren't crushing it?\\n\\nIt seems to be the creepiest thing. \\n\\n#OnePlusNord #ASUS #freelance #contentwriter… https://t.co/ILYj0af4iV\",\n",
              " 'Village beauty #shotononeplus #OnePlusNord @OnePlus_IN #NaturePhotography https://t.co/9vU8ZQQPnU',\n",
              " 'Village beauty #shotononeplus #OnePlusNord @OnePlus_IN #NaturePhotography https://t.co/STCzbItX3q',\n",
              " 'Top 5 fastest Midrange Android Phones\\n\\n#androidsmartphones #oneplus #oneplusnord #redmi #redmik30pro #huawei… https://t.co/eNE0ctnl9p',\n",
              " 'Unable to set home screen pic @OnePlus_IN  #OnePlusNord',\n",
              " '#SamsungM51 #OnePlusNord\\n#m51vsnord\\n#tamiltech\\n#TamilTechKULU\\nSamsung Galaxy M51 Vs OnePlus Nord full comparison\\nWa… https://t.co/6lnRCQRaj4',\n",
              " '💥 #OnePlusNord 5G (Gray Onyx, 12GB RAM, 256GB Storage) at Rs.29999\\n👉 https://t.co/4PplHynbpz',\n",
              " 'These beautiful pictures are clicked by #oneplusnord #shotononeplus thankyou @OnePlus_IN for giving us such a beaut… https://t.co/BqRzVBmAnL',\n",
              " 'Word, Excel files not getting open in #OnePlusNord @OnePlus_IN @OnePlus_Support @oneplus',\n",
              " 'The OnePlus Nord Review - Real Value For Money https://t.co/kXZrobMeGf via @YouTube This is the best value for mone… https://t.co/nPKd2cMkh9',\n",
              " '#OnePlusNord 256G/126G onhand for 25990 only! to order ➡️ https://t.co/YHjzrxxbgN https://t.co/xOA27265Sv',\n",
              " 'For peoples who are thinking to buy a OnePlus Nord or samsung m51\\n\\n#OnePlusNord \\n#SamsungM51 \\n@TamilTechOffici \\n\\nhttps://t.co/ayPYgbLBBA',\n",
              " 'Testing camera of #OppoF17Pro 💙 for the new video.\\nVideo coming soon. Stay Tuned. ✌️\\nShot by #OnePlusNord \\n@oneplus… https://t.co/V6OiMt8GAH',\n",
              " '#OnePlusNord is here! Little late to the party but worth the wait. https://t.co/6Z0eKyQVuQ',\n",
              " 'Oneplus 8T vs Oneplus 8 Pro🔥🔥 || A Complete Comparison\\n\\nWatch&amp;Enjoy it👉https://t.co/YFiFMi0jrQ\\n\\n#OnePlus8T… https://t.co/SK5mZPI4kH',\n",
              " 'Hey! Check out new OnePlus Nord 5G (Blue Marble, 8GB RAM, 128GB Storage)!\\nhttps://t.co/x9cw6xOSxz\\n#OnePlusNord https://t.co/FMVRhdezGh',\n",
              " '#OnePlusNord powered by  Snapdragon™ 765G 5G Mobile Platform with improved CPU speeds and 30% faster graphics rende… https://t.co/nNevbQMSk0',\n",
              " '@oneplus @OnePlus_IN There was a time when OnePlus was actually making affordable flagship phones now they have cre… https://t.co/2hqYY5VhBG',\n",
              " \"@OnePlus_UK I love my #OneplusNord... But it still doesn't charge to 70% in 30mins like yall advertised :(.\",\n",
              " 'Check Out New OnePlus Nord Amazing Features here. For More Detail Click On This Link Given Below :-\\n#OnePlus… https://t.co/AZdFaQzIgp',\n",
              " 'To all smartphone brands,\\nStop giving those 2-2 mp sensors as they are all a marketing gimick and nothing else.\\nI w… https://t.co/RONd1i8jrX',\n",
              " 'Pretty much everything..👌 #OnePlusNord https://t.co/3lbQsNXhMU',\n",
              " '@MadhavSheth1 @FrancisRealme @nidhi_bhatia \\ncan we expect this picture quality in #realmext 64MP ? Please improve… https://t.co/Dpru1nKSML',\n",
              " 'Village beauty #shotononeplus #OnePlusNord @OnePlus_IN #NaturePhotography https://t.co/tNZRM4clMV',\n",
              " 'How to record audio with bluetooth headset #oneplusnord  And #onepluswirelessZ @OnePlus_IN @PeteLau example in karaoke app like @starmaker ?',\n",
              " \"For those who are new here and who didn't know about this. For others who believed that they really were a separate… https://t.co/16vVwayYFN\",\n",
              " 'captured on #OneplusNord @OnePlus_IN \\nhttps://t.co/imciyVUGrZ',\n",
              " '@OnePlus_IN  @oneplus  @OnePlus_UK  @OnePlus_Support  See this is #oneplusnord macro shot 😒. Please improve overall… https://t.co/iTZaKeV6S8',\n",
              " \"@OnePlus_IN  please improve #Oneplusnord camera quality, it's not enough for our brand\",\n",
              " 'Hi, I have purchased #OneplusNord on 12 Septemberam 2020. I am using this phone, with lot of expections and lot man… https://t.co/odGzF619Dp',\n",
              " 'I recently bought #OnePlusNord Is it possible to activate assistive touch button? And also why notifications number… https://t.co/KsGVZ7ZSjJ',\n",
              " '@amazon @AmazonHelp @amazonIN @VivekSharm2000 #VivekSharma #Amazon #AmazonQuiz #AmazonFunzoneSlots \\n@oneplus\\nHey… https://t.co/XAtHUHDN0V',\n",
              " 'I won this Quiz @amazonIN @amazon @OnePlus_IN @oneplus #OnePlusNord #FunzoneJackpot #Quiztimemorningswithamazon… https://t.co/R1Rj8n1xlE',\n",
              " \"OnePlus Nord Full Camera Review After 30 Days Use | Hindi https://t.co/TgLPt00oc2 via @YouTube \\n#OnePlusNord can't… https://t.co/5ItBeTjw6V\",\n",
              " 'Which is better phone? Help me finding the best, please! ❤\\n\\n#OneplusNord or #SamsungM51\\n\\n#Master @actorvijay',\n",
              " \"@prakh_r @Flipkart Bro, m too waiting eagerly for #Pixel4a for weeks now. But I suppose @Google and @Flipkart don't… https://t.co/JuZN2ZgeNj\",\n",
              " '#GalaxyM51 Vs #OnePlusNord\\nIs Here :\\n\\nOn @GISSupport\\nBy @ParasmeSaurabh\\n\\nMust Watch Video.\\n\\nhttps://t.co/ht31Qc9KBm',\n",
              " 'I got chance to win #OnePlusNord @amazonIN in #AmazonFunzoneSlots https://t.co/VSsqo7DJDm',\n",
              " '#Amazon - Funzone Jackpot Game\\n\\nPlay &amp; get a chance to win #OnePlusNord &amp; more\\n\\nPlay Now : \\nhttps://t.co/ujwD0JlALb\\n\\nQuiz Answer : Bowlers',\n",
              " '#Amazon - Funzone Jackpot Game\\n\\nPlay &amp; get a chance to win #OnePlusNord &amp; more\\n\\nPlay Now : https://t.co/NReJgTAtkj\\n\\nQuiz Answer : Bowlers',\n",
              " 'CHECK IT OUT GUYS OUR NEW VIDEO🔥🔥\\n#oneplusbuds \\n#OnePlusNord \\n#OnePlus8T5G \\n\\nhttps://t.co/Axh1Ir74aY https://t.co/e9WVm7D4pQ',\n",
              " 'https://t.co/9TD8IqBiwR\\n\\nCheck out the new Video about Unboxing and First Look of OnePlus Nord.\\n\\n#oneplusnord… https://t.co/RZla9L5aoh',\n",
              " 'I m hoping that smartphone brands like samsung, Xiaomi,and other market leading companies to bring more choices wit… https://t.co/3wpikvnSF6',\n",
              " '#OnePlusNord comes with OxygenOS 10.5, complete with all the features we are expecting. https://t.co/st2zmI7wIb \\nDi… https://t.co/gGozTSnl0q',\n",
              " 'Samsung Galaxy M51 vs OnePlus Nord Camera Comparison (Hindi)  Is OnePlus Finally Ahead!!?? https://t.co/KYNQGRH7uf… https://t.co/sDRKsl6PdB',\n",
              " '#OnePlusNord\\n#SamsungGalaxyM51\\n#comparison \\nWatch it guys dnt miss it \\n@TamilTechOffici\\n@TechnicalGuruji\\nhttps://t.co/VIF0sxMUjc',\n",
              " 'OnePlus NORD I Product Video\\n\\nShot this @oneplus NORD reveal video at home using Nikon D5500, 2 video lights, and a… https://t.co/rKuXgodJfq',\n",
              " 'What are your thoughts about #GalaxyS20FE and #OnePlus8Pro, which is the better phone between these?\\n\\n#Samsung… https://t.co/ItaVKRJVN5',\n",
              " 'OnePlus Nord Vs Galaxy Note 20 Ultra Speed Test\\n\\nhttps://t.co/doDc8rlwFi #GalaxyNote20Ultra5G #OnePlusNord']"
            ]
          },
          "metadata": {
            "tags": []
          },
          "execution_count": 9
        }
      ]
    },
    {
      "cell_type": "code",
      "metadata": {
        "id": "UuGHRaGCHGC1"
      },
      "source": [
        "texttweets=[t for t in TotalTweets]"
      ],
      "execution_count": 10,
      "outputs": []
    },
    {
      "cell_type": "code",
      "metadata": {
        "id": "11jP71JurPvY"
      },
      "source": [
        "import nltk\n",
        "nltk.download('punkt')\n",
        "from nltk.tokenize import word_tokenize, sent_tokenize\n",
        "tokenized=[word_tokenize(t) for t in texttweets]\n",
        "tokenized[0]"
      ],
      "execution_count": null,
      "outputs": []
    },
    {
      "cell_type": "code",
      "metadata": {
        "id": "Z0pfpibtrPsn",
        "outputId": "bfc9fce4-a1a8-40b4-d896-eb8fc3b4fe70",
        "colab": {
          "base_uri": "https://localhost:8080/",
          "height": 458
        }
      },
      "source": [
        "tokenized[1]"
      ],
      "execution_count": null,
      "outputs": [
        {
          "output_type": "execute_result",
          "data": {
            "text/plain": [
              "['#',\n",
              " 'Trump',\n",
              " 'is',\n",
              " 'already',\n",
              " 'demanding',\n",
              " 'a',\n",
              " 'vote',\n",
              " 'without',\n",
              " 'delay',\n",
              " 'for',\n",
              " 'his',\n",
              " '#',\n",
              " 'SupremeCourt',\n",
              " 'nominee',\n",
              " '!',\n",
              " '#',\n",
              " 'RuthBaderGinsburg',\n",
              " 'just',\n",
              " 'died',\n",
              " 'LAST',\n",
              " 'N…',\n",
              " 'https',\n",
              " ':',\n",
              " '//t.co/8qKOboq0Qh']"
            ]
          },
          "metadata": {
            "tags": []
          },
          "execution_count": 124
        }
      ]
    },
    {
      "cell_type": "code",
      "metadata": {
        "id": "Ko4RNXteIxdD",
        "outputId": "441b2b3a-a105-4435-f49e-d0f9f53b6999",
        "colab": {
          "base_uri": "https://localhost:8080/",
          "height": 458
        }
      },
      "source": [
        "tokenized[2]"
      ],
      "execution_count": null,
      "outputs": [
        {
          "output_type": "execute_result",
          "data": {
            "text/plain": [
              "['@',\n",
              " 'robbystarbuck',\n",
              " '@',\n",
              " 'tamarakeithNPR',\n",
              " '@',\n",
              " 'PressSec',\n",
              " 'gave',\n",
              " 'a',\n",
              " 'different',\n",
              " 'version',\n",
              " 'of',\n",
              " '#',\n",
              " 'Trump',\n",
              " 'hearing',\n",
              " 'the',\n",
              " 'news',\n",
              " 'for',\n",
              " 'the',\n",
              " '1st',\n",
              " 'time',\n",
              " 'when…',\n",
              " 'https',\n",
              " ':',\n",
              " '//t.co/jbeX4KuV6W']"
            ]
          },
          "metadata": {
            "tags": []
          },
          "execution_count": 125
        }
      ]
    },
    {
      "cell_type": "code",
      "metadata": {
        "id": "RIoEjFdwI1C2",
        "outputId": "cb259f19-623e-4542-e6e2-fb2d3d776913",
        "colab": {
          "base_uri": "https://localhost:8080/",
          "height": 54
        }
      },
      "source": [
        "nltk.download('stopwords')\n",
        "from nltk.corpus import stopwords\n",
        "from string import punctuation\n",
        "cars='εδώΔίτουπαρουσίασηΩμ!\"#$%&\\'*+,/:;<=>?@[\\\\]^_`{|}~'\n",
        "def preprocess(texts):\n",
        "  sp_words=set(stopwords.words('english'))\n",
        "  def remove_punctuation(tokens):\n",
        "    return [token.lower() for token in tokens if token.lower() not in sp_words and token.lower() not in punctuation ]\n",
        "  return [remove_punctuation(text) for text in texts]"
      ],
      "execution_count": null,
      "outputs": [
        {
          "output_type": "stream",
          "text": [
            "[nltk_data] Downloading package stopwords to /root/nltk_data...\n",
            "[nltk_data]   Package stopwords is already up-to-date!\n"
          ],
          "name": "stdout"
        }
      ]
    },
    {
      "cell_type": "code",
      "metadata": {
        "id": "0oitkgTsL8Uh",
        "outputId": "5f3981d4-c1f3-4d91-a73e-17e7f2e75391",
        "colab": {
          "base_uri": "https://localhost:8080/",
          "height": 36
        }
      },
      "source": [
        "preprocessed=preprocess(tokenized)\n",
        "sp_words=set(stopwords.words('english'))\n",
        "# print(sp_words)\n",
        "def remove_punctuation(tokens):\n",
        "    return [token.lower() for token in tokens if token not in sp_words and token not in punctuation ]\n",
        "k=\"I have a problem on this question I should've . .. ... # what are this is a problem ok bye i don't know ll \"\n",
        "re=remove_punctuation(word_tokenize(k))\n",
        "punctuation"
      ],
      "execution_count": null,
      "outputs": [
        {
          "output_type": "execute_result",
          "data": {
            "application/vnd.google.colaboratory.intrinsic+json": {
              "type": "string"
            },
            "text/plain": [
              "'!\"#$%&\\'()*+,-./:;<=>?@[\\\\]^_`{|}~'"
            ]
          },
          "metadata": {
            "tags": []
          },
          "execution_count": 108
        }
      ]
    },
    {
      "cell_type": "code",
      "metadata": {
        "id": "yWsmFTPR1d6T",
        "outputId": "595ff9c2-f7d5-4f3e-d5db-5971b3a8d9e7",
        "colab": {
          "base_uri": "https://localhost:8080/",
          "height": 164
        }
      },
      "source": [
        "preprocessed[74]"
      ],
      "execution_count": null,
      "outputs": [
        {
          "output_type": "execute_result",
          "data": {
            "text/plain": [
              "['filltheseat',\n",
              " 'realdonaldtrump',\n",
              " 'filltheseat',\n",
              " 'trump2020landslidevictory',\n",
              " 'turnnewyorkcityred',\n",
              " 'turnnewyorkstatered…',\n",
              " 'https',\n",
              " '//t.co/ftyopk1mrb']"
            ]
          },
          "metadata": {
            "tags": []
          },
          "execution_count": 109
        }
      ]
    },
    {
      "cell_type": "code",
      "metadata": {
        "id": "8Z6HqhOazSeI"
      },
      "source": [
        "# stopwords.words('english')"
      ],
      "execution_count": null,
      "outputs": []
    },
    {
      "cell_type": "code",
      "metadata": {
        "id": "H4032LsRN3ak"
      },
      "source": [
        "#goodthing done till now. Remove links . Regular expressions. buut first lemmatize I guess\n"
      ],
      "execution_count": null,
      "outputs": []
    },
    {
      "cell_type": "code",
      "metadata": {
        "id": "RupaNGysQcQu",
        "outputId": "d4803733-d8c4-4d2e-d66a-6cf2addcf699",
        "colab": {
          "base_uri": "https://localhost:8080/",
          "height": 109
        }
      },
      "source": [
        "nltk.download('averaged_perceptron_tagger')\n",
        "nltk.download('wordnet')\n",
        "from nltk.corpus import wordnet\n",
        "def get_wordnet_pos(word):\n",
        "    \"\"\"Map POS tag to first character lemmatize() accepts\"\"\"\n",
        "    tag = nltk.pos_tag([word])[0][1][0].upper()\n",
        "    tag_dict = {\"J\": wordnet.ADJ,\n",
        "                \"N\": wordnet.NOUN,\n",
        "                \"V\": wordnet.VERB,\n",
        "                \"R\": wordnet.ADV}\n",
        "\n",
        "    return tag_dict.get(tag, wordnet.NOUN)"
      ],
      "execution_count": null,
      "outputs": [
        {
          "output_type": "stream",
          "text": [
            "[nltk_data] Downloading package averaged_perceptron_tagger to\n",
            "[nltk_data]     /root/nltk_data...\n",
            "[nltk_data]   Unzipping taggers/averaged_perceptron_tagger.zip.\n",
            "[nltk_data] Downloading package wordnet to /root/nltk_data...\n",
            "[nltk_data]   Unzipping corpora/wordnet.zip.\n"
          ],
          "name": "stdout"
        }
      ]
    },
    {
      "cell_type": "code",
      "metadata": {
        "id": "NRkVWEBwO-QZ"
      },
      "source": [
        "from nltk.stem import WordNetLemmatizer\n",
        "lemmatizer =WordNetLemmatizer()\n",
        "def lem(tw):\n",
        "  return [lemmatizer.lemmatize(t,get_wordnet_pos(t)) for t in tw]\n",
        "lemmatized =[lem(twee) for twee in preprocessed] "
      ],
      "execution_count": null,
      "outputs": []
    },
    {
      "cell_type": "code",
      "metadata": {
        "id": "BFfiA_bhWoum",
        "outputId": "ce299b85-0524-4f7f-c17c-1480a47100a3",
        "colab": {
          "base_uri": "https://localhost:8080/",
          "height": 164
        }
      },
      "source": [
        "#niceaayt pani paliya lemmetizer\n",
        "# print(lemmatizer.lemmatize('studying',get_wordnet_pos('studying'))\n",
        "# lemmatized.remove('nord')\n",
        "# lemmatized.remove('plus')\n",
        "# lemmatized.remove('one')\n",
        "# lemmatized.remove('oneplus')\n",
        "# lemmatized.remove('oneplusnord')\n",
        "lemmatized[74]"
      ],
      "execution_count": null,
      "outputs": [
        {
          "output_type": "execute_result",
          "data": {
            "text/plain": [
              "['filltheseat',\n",
              " 'realdonaldtrump',\n",
              " 'filltheseat',\n",
              " 'trump2020landslidevictory',\n",
              " 'turnnewyorkcityred',\n",
              " 'turnnewyorkstatered…',\n",
              " 'http',\n",
              " '//t.co/ftyopk1mrb']"
            ]
          },
          "metadata": {
            "tags": []
          },
          "execution_count": 114
        }
      ]
    },
    {
      "cell_type": "code",
      "metadata": {
        "id": "Q1R5B4AeUQ7m"
      },
      "source": [
        "list1=['nord','oneplus','http','one','oneplusbuds','oneplusnord','...',\"'s\",'’','plus','phone','de','also','galaxy','price','oneplus_in',\"n't\",'lenovo','playapex','x','philippine','un','amp','youtube','que']"
      ],
      "execution_count": null,
      "outputs": []
    },
    {
      "cell_type": "code",
      "metadata": {
        "id": "0QGK-__gR3MQ",
        "outputId": "b7f2dcca-931e-41a2-d7d7-bfea6fe173fb",
        "colab": {
          "base_uri": "https://localhost:8080/",
          "height": 74
        }
      },
      "source": [
        "from collections import Counter \n",
        "flatList = [w for subList in lemmatized for w in subList]\n",
        "print(flatList[0:20])\n",
        "flatList=[s for s in flatList if s not in list1]\n",
        "# for w in most_occur:\n",
        "#   flatList.remove(w)\n",
        "# counter = Counter(flatList) \n",
        "# most_occur = counter.most_common(20) \n",
        "print(flatList[0:20])"
      ],
      "execution_count": null,
      "outputs": [
        {
          "output_type": "stream",
          "text": [
            "['believe', '2020', 'go', 'year', 'america', 'second', 'civil', 'war', 'nominate', 'another', 'conservative', 'the…', 'http', '//t.co/4uejttq74j', 'trump', 'already', 'demand', 'vote', 'without', 'delay']\n",
            "['believe', '2020', 'go', 'year', 'america', 'second', 'civil', 'war', 'nominate', 'another', 'conservative', 'the…', '//t.co/4uejttq74j', 'trump', 'already', 'demand', 'vote', 'without', 'delay', 'supremecourt']\n"
          ],
          "name": "stdout"
        }
      ]
    },
    {
      "cell_type": "code",
      "metadata": {
        "id": "TixR5AO3EO5j",
        "outputId": "b4111301-8c82-4a25-9349-a79f9558c859",
        "colab": {
          "base_uri": "https://localhost:8080/",
          "height": 55
        }
      },
      "source": [
        "counter = Counter(flatList) \n",
        "most_occur = counter.most_common(20) \n",
        "print(most_occur)"
      ],
      "execution_count": null,
      "outputs": [
        {
          "output_type": "stream",
          "text": [
            "[('trump', 728), ('realdonaldtrump', 114), ('gop', 88), ('``', 58), ('president', 57), ('ginsburg', 53), ('republican', 51), (\"''\", 45), ('la', 44), ('rbg', 43), ('court', 42), ('biden', 41), ('make', 40), ('election', 40), ('go', 39), ('america', 37), ('“', 37), ('scotus', 37), ('democrat', 37), ('obama', 36)]\n"
          ],
          "name": "stdout"
        }
      ]
    },
    {
      "cell_type": "code",
      "metadata": {
        "id": "jcSZz0zQ6TY8",
        "outputId": "cd12ec9a-48d6-4d9a-a17f-f11ca936c14b",
        "colab": {
          "base_uri": "https://localhost:8080/",
          "height": 353
        }
      },
      "source": [
        "import pandas as pd\n",
        "import matplotlib.pyplot as plt\n",
        "x,y = zip(*most_occur)\n",
        "plt.bar(x,y)\n",
        "plt.xlabel('Words')\n",
        "plt.ylabel('Count')\n",
        "plt.xticks(rotation='vertical')\n",
        "plt.draw()"
      ],
      "execution_count": null,
      "outputs": [
        {
          "output_type": "display_data",
          "data": {
            "image/png": "[encoded data removed]",
            "text/plain": [
              "<Figure size 432x288 with 1 Axes>"
            ]
          },
          "metadata": {
            "tags": [],
            "needs_background": "light"
          }
        }
      ]
    },
    {
      "cell_type": "code",
      "metadata": {
        "id": "j7zf3a366Tmk",
        "outputId": "8e6f5aa1-6c19-4163-b9ce-af9b5ca4da40",
        "colab": {
          "base_uri": "https://localhost:8080/",
          "height": 476
        }
      },
      "source": [
        "from nltk.util import ngrams \n",
        "n_grams = 2\n",
        "x = dict(Counter(ngrams(flatList, n_grams)))\n",
        "print(sorted(x.items(), key = lambda item:item[1], reverse=True)[:20])\n",
        "y = {k:x[k] for (k,v) in sorted(x.items(), key = lambda item:item[1], reverse=True)[:20]}\n",
        "print(y.values())\n",
        "plt.pie(y.values(), labels = y.keys(), radius = 2,autopct='%1.3f%%')\n",
        "plt.show()"
      ],
      "execution_count": null,
      "outputs": [
        {
          "output_type": "stream",
          "text": [
            "[(('realdonaldtrump', 'gop'), 46), (('supreme', 'court'), 32), (('ruth', 'bader'), 19), (('president', 'trump'), 19), (('bader', 'ginsburg'), 18), ((\"'without\", 'delay'), 16), (('court', 'justice'), 14), (('realdonaldtrump', 'trump'), 14), (('republican', 'party'), 13), (('vote', 'trump'), 12), (('without', 'delay'), 11), (('trump', 'biden'), 11), (('trump', 'say'), 11), (('trump', 'gop'), 11), (('gop', '2016'), 10), (('2016', 'presidency'), 10), (('presidency', 'obama'), 10), (('obama', 'republican'), 10), (('party', 'found'), 10), (('found', '237'), 10)]\n",
            "dict_values([46, 32, 19, 19, 18, 16, 14, 14, 13, 12, 11, 11, 11, 11, 10, 10, 10, 10, 10, 10])\n"
          ],
          "name": "stdout"
        },
        {
          "output_type": "display_data",
          "data": {
            "image/png": "[encoded data removed]",
            "text/plain": [
              "<Figure size 432x288 with 1 Axes>"
            ]
          },
          "metadata": {
            "tags": []
          }
        }
      ]
    }
  ]
}
{
  "nbformat": 4,
  "nbformat_minor": 0,
  "metadata": {
    "colab": {
      "name": "Medical_Assignment_bas.ipynb",
      "provenance": [],
      "mount_file_id": "1CYN7WKLo7OGTM2HNvrUKjUj30CTXxuSn",
      "authorship_tag": "ABX9TyPZ4J1bZkhqN1bb48kC2zGb",
      "include_colab_link": true
    },
    "kernelspec": {
      "name": "python3",
      "display_name": "Python 3"
    }
  },
  "cells": [
    {
      "cell_type": "markdown",
      "metadata": {
        "id": "view-in-github",
        "colab_type": "text"
      },
      "source": [
        "<a href=\"https://colab.research.google.com/github/johnsDevassy/Worked_Projects/blob/master/Medical_Assignment_bas.ipynb\" target=\"_parent\"><img src=\"https://colab.research.google.com/assets/colab-badge.svg\" alt=\"Open In Colab\"/></a>"
      ]
    },
    {
      "cell_type": "code",
      "metadata": {
        "id": "ivBTN_E8UdIN",
        "outputId": "64cc325a-6b34-4fb6-cc3e-5c9f4c39db3a",
        "colab": {
          "base_uri": "https://localhost:8080/"
        }
      },
      "source": [
        "#lets take the data\n",
        "import nltk\n",
        "import os\n",
        "import zipfile\n",
        "ziploc=\"/content/drive/My Drive/datasets/medicalnotes-2019.zip\"\n",
        "zipref=zipfile.ZipFile(ziploc,'r')\n",
        "zipref.extractall(\"/content/datas\")\n",
        "from nltk.corpus import stopwords\n",
        "nltk.download('punkt')\n",
        "nltk.download('stopwords') \n",
        "from nltk.tokenize import word_tokenize\n",
        "from nltk.stem import WordNetLemmatizer\n",
        "stemmer = WordNetLemmatizer()\n",
        "nltk.download('wordnet') "
      ],
      "execution_count": 19,
      "outputs": [
        {
          "output_type": "stream",
          "text": [
            "[nltk_data] Downloading package punkt to /root/nltk_data...\n",
            "[nltk_data]   Package punkt is already up-to-date!\n",
            "[nltk_data] Downloading package stopwords to /root/nltk_data...\n",
            "[nltk_data]   Package stopwords is already up-to-date!\n",
            "[nltk_data] Downloading package wordnet to /root/nltk_data...\n",
            "[nltk_data]   Package wordnet is already up-to-date!\n"
          ],
          "name": "stdout"
        },
        {
          "output_type": "execute_result",
          "data": {
            "text/plain": [
              "True"
            ]
          },
          "metadata": {
            "tags": []
          },
          "execution_count": 19
        }
      ]
    },
    {
      "cell_type": "code",
      "metadata": {
        "id": "8EL-iIZNV02N"
      },
      "source": [
        "#lets make the Training data\n",
        "train_zip_ref=zipfile.ZipFile(\"/content/datas/data_split.zip\",'r')\n",
        "train_zip_ref.extractall(\"/content/datas/collection\")"
      ],
      "execution_count": 20,
      "outputs": []
    },
    {
      "cell_type": "code",
      "metadata": {
        "id": "eOlOs1Bgbwxu",
        "outputId": "198f42f9-c35e-4dc4-cf1b-dc56a65eacf3",
        "colab": {
          "base_uri": "https://localhost:8080/"
        }
      },
      "source": [
        "dirnames=os.listdir(\"/content/datas/collection/dataset/train-data\")\n",
        "dirnames"
      ],
      "execution_count": 21,
      "outputs": [
        {
          "output_type": "execute_result",
          "data": {
            "text/plain": [
              "['Urology', 'Gastroenterology', 'Orthopedic', 'Radiology', 'Neurology']"
            ]
          },
          "metadata": {
            "tags": []
          },
          "execution_count": 21
        }
      ]
    },
    {
      "cell_type": "code",
      "metadata": {
        "id": "o-Qi9_aTcF2s"
      },
      "source": [
        "#lets add labels for the data\n",
        "import pandas as pd\n",
        "import io\n",
        "data_label=pd.DataFrame(columns={'target','zcontent'})\n",
        "import codecs\n",
        "con=0\n",
        "for i in dirnames:\n",
        "  filenames=os.listdir(\"/content/datas/collection/dataset/train-data/\"+i)\n",
        "  for j in filenames:\n",
        "    f=io.open(\"/content/datas/collection/dataset/train-data/\"+i+\"/\"+j,'r',encoding='cp1252')\n",
        "    content=f.read()\n",
        "    \n",
        "    data_label=data_label.append({'target':con,'zcontent':content},ignore_index=True)\n",
        "  con+=1"
      ],
      "execution_count": 22,
      "outputs": []
    },
    {
      "cell_type": "code",
      "metadata": {
        "id": "mKgxlqbfc8r-",
        "outputId": "2e9d374a-ea14-4b06-ac7c-f53ab2dd60eb",
        "colab": {
          "base_uri": "https://localhost:8080/",
          "height": 424
        }
      },
      "source": [
        "#Haha We created our train labels\n",
        "data_label"
      ],
      "execution_count": 23,
      "outputs": [
        {
          "output_type": "execute_result",
          "data": {
            "text/html": [
              "<div>\n",
              "<style scoped>\n",
              "    .dataframe tbody tr th:only-of-type {\n",
              "        vertical-align: middle;\n",
              "    }\n",
              "\n",
              "    .dataframe tbody tr th {\n",
              "        vertical-align: top;\n",
              "    }\n",
              "\n",
              "    .dataframe thead th {\n",
              "        text-align: right;\n",
              "    }\n",
              "</style>\n",
              "<table border=\"1\" class=\"dataframe\">\n",
              "  <thead>\n",
              "    <tr style=\"text-align: right;\">\n",
              "      <th></th>\n",
              "      <th>target</th>\n",
              "      <th>zcontent</th>\n",
              "    </tr>\n",
              "  </thead>\n",
              "  <tbody>\n",
              "    <tr>\n",
              "      <th>0</th>\n",
              "      <td>0</td>\n",
              "      <td>\\n\\n\\n\\n\\n&lt;B&gt;PREOPERATIVE DIAGNOSIS: &lt;/B&gt; Righ...</td>\n",
              "    </tr>\n",
              "    <tr>\n",
              "      <th>1</th>\n",
              "      <td>0</td>\n",
              "      <td>\\n\\n\\n\\n\\n&lt;B&gt;CHIEF COMPLAINT:&lt;/B&gt;  The patient...</td>\n",
              "    </tr>\n",
              "    <tr>\n",
              "      <th>2</th>\n",
              "      <td>0</td>\n",
              "      <td>\\n\\n\\n\\n\\n&lt;B&gt;EXAM: &lt;/B&gt; Ultrasound examination...</td>\n",
              "    </tr>\n",
              "    <tr>\n",
              "      <th>3</th>\n",
              "      <td>0</td>\n",
              "      <td>\\n\\n\\n\\n\\n&lt;B&gt;HISTORY OF PRESENT ILLNESS:&lt;/B&gt;  ...</td>\n",
              "    </tr>\n",
              "    <tr>\n",
              "      <th>4</th>\n",
              "      <td>0</td>\n",
              "      <td>\\n\\n\\n\\n\\n&lt;B&gt;PREOPERATIVE DIAGNOSES:&lt;/B&gt;\\n1.  ...</td>\n",
              "    </tr>\n",
              "    <tr>\n",
              "      <th>...</th>\n",
              "      <td>...</td>\n",
              "      <td>...</td>\n",
              "    </tr>\n",
              "    <tr>\n",
              "      <th>821</th>\n",
              "      <td>4</td>\n",
              "      <td>\\n\\n\\n\\n\\n&lt;B&gt;CHIEF COMPLAINT: &lt;/B&gt; Followup of...</td>\n",
              "    </tr>\n",
              "    <tr>\n",
              "      <th>822</th>\n",
              "      <td>4</td>\n",
              "      <td>\\n\\n\\n\\n\\n&lt;B&gt;EXAM:&lt;/B&gt;  CT cervical spine (C-s...</td>\n",
              "    </tr>\n",
              "    <tr>\n",
              "      <th>823</th>\n",
              "      <td>4</td>\n",
              "      <td>\\n\\n\\n\\n\\n&lt;B&gt;REASON FOR VISIT:&lt;/B&gt;  Followup s...</td>\n",
              "    </tr>\n",
              "    <tr>\n",
              "      <th>824</th>\n",
              "      <td>4</td>\n",
              "      <td>\\n\\n\\n\\n\\n&lt;B&gt;DIAGNOSIS:&lt;/B&gt;  Status post brain...</td>\n",
              "    </tr>\n",
              "    <tr>\n",
              "      <th>825</th>\n",
              "      <td>4</td>\n",
              "      <td>\\n\\n\\n\\n\\n&lt;B&gt;REASON FOR VISIT:&lt;/B&gt;  Mr. A is a...</td>\n",
              "    </tr>\n",
              "  </tbody>\n",
              "</table>\n",
              "<p>826 rows × 2 columns</p>\n",
              "</div>"
            ],
            "text/plain": [
              "    target                                           zcontent\n",
              "0        0  \\n\\n\\n\\n\\n<B>PREOPERATIVE DIAGNOSIS: </B> Righ...\n",
              "1        0  \\n\\n\\n\\n\\n<B>CHIEF COMPLAINT:</B>  The patient...\n",
              "2        0  \\n\\n\\n\\n\\n<B>EXAM: </B> Ultrasound examination...\n",
              "3        0  \\n\\n\\n\\n\\n<B>HISTORY OF PRESENT ILLNESS:</B>  ...\n",
              "4        0  \\n\\n\\n\\n\\n<B>PREOPERATIVE DIAGNOSES:</B>\\n1.  ...\n",
              "..     ...                                                ...\n",
              "821      4  \\n\\n\\n\\n\\n<B>CHIEF COMPLAINT: </B> Followup of...\n",
              "822      4  \\n\\n\\n\\n\\n<B>EXAM:</B>  CT cervical spine (C-s...\n",
              "823      4  \\n\\n\\n\\n\\n<B>REASON FOR VISIT:</B>  Followup s...\n",
              "824      4  \\n\\n\\n\\n\\n<B>DIAGNOSIS:</B>  Status post brain...\n",
              "825      4  \\n\\n\\n\\n\\n<B>REASON FOR VISIT:</B>  Mr. A is a...\n",
              "\n",
              "[826 rows x 2 columns]"
            ]
          },
          "metadata": {
            "tags": []
          },
          "execution_count": 23
        }
      ]
    },
    {
      "cell_type": "code",
      "metadata": {
        "id": "Ugu9BOeadLy9"
      },
      "source": [
        "def preprocesso(need):  \n",
        "  #lets import and preprocess our train data\n",
        "  import nltk\n",
        "  #nltk.download('stopwords')\n",
        "  stop_words = set(stopwords.words('english'))  \n",
        "  from nltk.tokenize import word_tokenize\n",
        "  import string\n",
        "  import re\n",
        "  s=re.sub(\"<B>.*</B>\",\"\",need)\n",
        "  s=re.sub(\"\\n\",\" \",s)\n",
        "  mains=\"ABCDEFGHIJKLMNOPQRSTUVWXYZabcdefghijklmnopqrstuvwxyz \"\n",
        "  news=\"\"\n",
        "  for i in s:\n",
        "    if i in mains:\n",
        "      news=news+i\n",
        "  news=re.sub(\" +\",\" \",news)\n",
        "  newstr=\"\"\n",
        "  for i in news.split():\n",
        "    if i not in stop_words and len(i)>2:\n",
        "      newstr=newstr+\" \"+i\n",
        "  tok=' '.join([stemmer.lemmatize(word) for word in newstr.split()])\n",
        "  return tok\n"
      ],
      "execution_count": 24,
      "outputs": []
    },
    {
      "cell_type": "code",
      "metadata": {
        "id": "eP11iLLV9Yu5"
      },
      "source": [
        "data_label.zcontent=data_label.zcontent.apply(preprocesso)"
      ],
      "execution_count": 25,
      "outputs": []
    },
    {
      "cell_type": "code",
      "metadata": {
        "id": "Lr1p4MjwyUKt",
        "outputId": "6c42ea0f-9e21-462d-c6df-4ee0359c4fbd",
        "colab": {
          "base_uri": "https://localhost:8080/"
        }
      },
      "source": [
        "import string\n",
        "import nltk\n",
        "nltk.download('stopwords')\n",
        "from nltk.corpus import stopwords\n",
        "from sklearn.feature_extraction.text import CountVectorizer"
      ],
      "execution_count": 26,
      "outputs": [
        {
          "output_type": "stream",
          "text": [
            "[nltk_data] Downloading package stopwords to /root/nltk_data...\n",
            "[nltk_data]   Package stopwords is already up-to-date!\n"
          ],
          "name": "stdout"
        }
      ]
    },
    {
      "cell_type": "code",
      "metadata": {
        "id": "AX0mdkLLy25T"
      },
      "source": [
        "vocabmaker=data_label['zcontent']\n"
      ],
      "execution_count": 27,
      "outputs": []
    },
    {
      "cell_type": "code",
      "metadata": {
        "id": "Gqf6Kb36ylXs"
      },
      "source": [
        "from sklearn.feature_extraction.text import CountVectorizer\n",
        "# Define the cleaning pipeline we defined earlier\n",
        "vectorizer = CountVectorizer()\n",
        "med_countvectorizer = CountVectorizer(dtype = 'uint8').fit_transform(vocabmaker).toarray()"
      ],
      "execution_count": 36,
      "outputs": []
    },
    {
      "cell_type": "code",
      "metadata": {
        "id": "HrCNBavuy_hK",
        "outputId": "67420e07-972a-4a51-dc29-cd29c3873cb5",
        "colab": {
          "base_uri": "https://localhost:8080/"
        }
      },
      "source": [
        "print(len(med_countvectorizer))"
      ],
      "execution_count": 39,
      "outputs": [
        {
          "output_type": "stream",
          "text": [
            "826\n"
          ],
          "name": "stdout"
        }
      ]
    },
    {
      "cell_type": "code",
      "metadata": {
        "id": "-UkUBgfO0K56"
      },
      "source": [
        ""
      ],
      "execution_count": 39,
      "outputs": []
    },
    {
      "cell_type": "code",
      "metadata": {
        "id": "WnOcI0jQzaM7"
      },
      "source": [
        "#Splitting into training and test\n",
        "from sklearn.model_selection import train_test_split\n",
        "X_train, X_test, y_train, y_test = train_test_split(med_countvectorizer,data_label['target'] , test_size=0.1)"
      ],
      "execution_count": 40,
      "outputs": []
    },
    {
      "cell_type": "code",
      "metadata": {
        "id": "LHCpdkbE1GQp"
      },
      "source": [
        "from sklearn.preprocessing import LabelEncoder\n",
        "Encoder = LabelEncoder()\n",
        "y_train = Encoder.fit_transform(y_train)\n",
        "y_test = Encoder.fit_transform(y_test)"
      ],
      "execution_count": 42,
      "outputs": []
    },
    {
      "cell_type": "code",
      "metadata": {
        "id": "UM2rzlL70YHC",
        "outputId": "fcfbe8d3-3cb3-4d00-8c64-b43c5d0bb847",
        "colab": {
          "base_uri": "https://localhost:8080/"
        }
      },
      "source": [
        "from sklearn.naive_bayes import MultinomialNB\n",
        "\n",
        "NB_classifier = MultinomialNB()\n",
        "NB_classifier.fit(X_train, y_train)"
      ],
      "execution_count": 43,
      "outputs": [
        {
          "output_type": "execute_result",
          "data": {
            "text/plain": [
              "MultinomialNB(alpha=1.0, class_prior=None, fit_prior=True)"
            ]
          },
          "metadata": {
            "tags": []
          },
          "execution_count": 43
        }
      ]
    },
    {
      "cell_type": "code",
      "metadata": {
        "id": "DS6Qajzz0iR9",
        "outputId": "88633596-94ed-4f39-f176-a07bfb6530da",
        "colab": {
          "base_uri": "https://localhost:8080/",
          "height": 477
        }
      },
      "source": [
        "from sklearn.metrics import classification_report, confusion_matrix\n",
        "import seaborn as sns\n",
        "import matplotlib.pyplot as plt\n",
        "y_predict_test = NB_classifier.predict(X_test)\n",
        "cm = confusion_matrix(y_test, y_predict_test)\n",
        "sns.heatmap(cm, annot=True)\n",
        "\n",
        "print(classification_report(y_test, y_predict_test))\n",
        "\n"
      ],
      "execution_count": 44,
      "outputs": [
        {
          "output_type": "stream",
          "text": [
            "              precision    recall  f1-score   support\n",
            "\n",
            "           0       0.80      0.67      0.73        12\n",
            "           1       0.87      0.87      0.87        15\n",
            "           2       0.73      0.94      0.82        17\n",
            "           3       0.53      0.50      0.51        20\n",
            "           4       0.59      0.53      0.56        19\n",
            "\n",
            "    accuracy                           0.69        83\n",
            "   macro avg       0.70      0.70      0.70        83\n",
            "weighted avg       0.68      0.69      0.68        83\n",
            "\n"
          ],
          "name": "stdout"
        },
        {
          "output_type": "display_data",
          "data": {
            "image/png": "[encoded data removed]",
            "text/plain": [
              "<Figure size 432x288 with 2 Axes>"
            ]
          },
          "metadata": {
            "tags": [],
            "needs_background": "light"
          }
        }
      ]
    },
    {
      "cell_type": "code",
      "metadata": {
        "id": "vOBZR-xQ1KO9"
      },
      "source": [
        ""
      ],
      "execution_count": null,
      "outputs": []
    }
  ]
}
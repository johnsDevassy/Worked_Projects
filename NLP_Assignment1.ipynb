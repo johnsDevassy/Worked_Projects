{
  "nbformat": 4,
  "nbformat_minor": 0,
  "metadata": {
    "colab": {
      "name": "NLP_Assignment1.ipynb",
      "provenance": [],
      "authorship_tag": "ABX9TyMr+202/tnp/DWNN0ieleiR",
      "include_colab_link": true
    },
    "kernelspec": {
      "name": "python3",
      "display_name": "Python 3"
    }
  },
  "cells": [
    {
      "cell_type": "markdown",
      "metadata": {
        "id": "view-in-github",
        "colab_type": "text"
      },
      "source": [
        "<a href=\"https://colab.research.google.com/github/johnsDevassy/Worked_Projects/blob/master/NLP_Assignment1.ipynb\" target=\"_parent\"><img src=\"https://colab.research.google.com/assets/colab-badge.svg\" alt=\"Open In Colab\"/></a>"
      ]
    },
    {
      "cell_type": "code",
      "metadata": {
        "id": "u6qnKcI4raex",
        "colab_type": "code",
        "colab": {
          "base_uri": "https://localhost:8080/",
          "height": 54
        },
        "outputId": "e17d4711-9be6-4d93-e2ee-29a6a2684126"
      },
      "source": [
        "#importing packages\n",
        "import nltk\n",
        "nltk.download('brown')\n",
        "from nltk.corpus import brown"
      ],
      "execution_count": null,
      "outputs": [
        {
          "output_type": "stream",
          "text": [
            "[nltk_data] Downloading package brown to /root/nltk_data...\n",
            "[nltk_data]   Unzipping corpora/brown.zip.\n"
          ],
          "name": "stdout"
        }
      ]
    },
    {
      "cell_type": "code",
      "metadata": {
        "id": "TyPysVT8rh-3",
        "colab_type": "code",
        "colab": {
          "base_uri": "https://localhost:8080/",
          "height": 293
        },
        "outputId": "2da41119-bc7c-4a87-ebf9-0862543d28ad"
      },
      "source": [
        "#categories of brown\n",
        "brown.categories()"
      ],
      "execution_count": null,
      "outputs": [
        {
          "output_type": "execute_result",
          "data": {
            "text/plain": [
              "['adventure',\n",
              " 'belles_lettres',\n",
              " 'editorial',\n",
              " 'fiction',\n",
              " 'government',\n",
              " 'hobbies',\n",
              " 'humor',\n",
              " 'learned',\n",
              " 'lore',\n",
              " 'mystery',\n",
              " 'news',\n",
              " 'religion',\n",
              " 'reviews',\n",
              " 'romance',\n",
              " 'science_fiction']"
            ]
          },
          "metadata": {
            "tags": []
          },
          "execution_count": 3
        }
      ]
    },
    {
      "cell_type": "code",
      "metadata": {
        "id": "FcOr5ibSCsyx",
        "colab_type": "code",
        "colab": {
          "base_uri": "https://localhost:8080/",
          "height": 72
        },
        "outputId": "6195d883-d8e3-4f26-dc98-9e12b34fb169"
      },
      "source": [
        "#getting count of choosed category news and government\n",
        "cfd = nltk.ConditionalFreqDist((genre, word)\n",
        "         for genre in brown.categories()\n",
        "         for word in brown.words(categories=genre))\n",
        "days = ['Sunday', 'Monday', 'Tuesday', 'Wednesday', 'Thursday', 'Friday', 'Saturday']\n",
        "genre=['news','government']\n",
        "cfd.tabulate(conditions=genre, samples=days)"
      ],
      "execution_count": null,
      "outputs": [
        {
          "output_type": "stream",
          "text": [
            "              Sunday    Monday   Tuesday Wednesday  Thursday    Friday  Saturday \n",
            "      news        51        54        43        22        20        41        33 \n",
            "government         9         3         1         0         1         0         4 \n"
          ],
          "name": "stdout"
        }
      ]
    },
    {
      "cell_type": "code",
      "metadata": {
        "id": "V6CmGPjoXSeh",
        "colab_type": "code",
        "colab": {}
      },
      "source": [
        "vals=[cfd[\"news\"][day] for day in days]\n",
        "vals2=[cfd[\"government\"][day] for day in days]"
      ],
      "execution_count": null,
      "outputs": []
    },
    {
      "cell_type": "code",
      "metadata": {
        "id": "jVMkrq_lK53l",
        "colab_type": "code",
        "colab": {
          "base_uri": "https://localhost:8080/",
          "height": 283
        },
        "outputId": "b1d7047c-bd4b-487a-cc9f-02952c250124"
      },
      "source": [
        "#plotting data\n",
        "import matplotlib.pyplot as plt\n",
        "import numpy as np\n",
        "barWidth = 0\n",
        "fig = plt.subplots() \n",
        "plt.bar(days,vals)\n",
        "plt.bar(days,vals2)\n",
        "labels=['news', 'government']\n",
        "plt.legend(labels)"
      ],
      "execution_count": null,
      "outputs": [
        {
          "output_type": "execute_result",
          "data": {
            "text/plain": [
              "<matplotlib.legend.Legend at 0x7f921e668b38>"
            ]
          },
          "metadata": {
            "tags": []
          },
          "execution_count": 66
        },
        {
          "output_type": "display_data",
          "data": {
            "image/png": "[encoded data removed]",
            "text/plain": [
              "<Figure size 432x288 with 1 Axes>"
            ]
          },
          "metadata": {
            "tags": [],
            "needs_background": "light"
          }
        }
      ]
    },
    {
      "cell_type": "code",
      "metadata": {
        "id": "jPgH6GkMiUpR",
        "colab_type": "code",
        "colab": {}
      },
      "source": [
        "#The word Monday repeated highest number of times in news category\n",
        "#The word Sunday repeated highest number of times in government category\n",
        "#Code by johny"
      ],
      "execution_count": null,
      "outputs": []
    }
  ]
}
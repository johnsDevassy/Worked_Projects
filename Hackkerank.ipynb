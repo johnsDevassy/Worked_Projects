{
  "nbformat": 4,
  "nbformat_minor": 0,
  "metadata": {
    "colab": {
      "name": "Hackkerank.ipynb",
      "provenance": [],
      "authorship_tag": "ABX9TyMmcYsOWmuFC5xtLlx990u6",
      "include_colab_link": true
    },
    "kernelspec": {
      "name": "python3",
      "display_name": "Python 3"
    }
  },
  "cells": [
    {
      "cell_type": "markdown",
      "metadata": {
        "id": "view-in-github",
        "colab_type": "text"
      },
      "source": [
        "<a href=\"https://colab.research.google.com/github/johnsDevassy/Worked_Projects/blob/master/Hackkerank.ipynb\" target=\"_parent\"><img src=\"https://colab.research.google.com/assets/colab-badge.svg\" alt=\"Open In Colab\"/></a>"
      ]
    },
    {
      "cell_type": "markdown",
      "metadata": {
        "id": "VdgsNmg7mM-v"
      },
      "source": [
        "Lisa's Workbook Hackerrank\n",
        "\n",
        "https://www.hackerrank.com/challenges/lisa-workbook/problem\n",
        "\n"
      ]
    },
    {
      "cell_type": "code",
      "metadata": {
        "id": "tAYc2kbqlTNZ"
      },
      "source": [
        "def workbook(n, k, arr):\n",
        "    lst=[]\n",
        "    for j in range(0,n):\n",
        "        pr=[*range(1,arr[j]+1,1)]\n",
        "        print(pr)\n",
        "        f=0\n",
        "        l=k\n",
        "        for j in range(((arr[j]//k)+1) if arr[j]%k !=0 else (arr[j]//k)):\n",
        "            lst.append(pr[f:l])\n",
        "            f=l\n",
        "            l=min(l+k,len(pr))\n",
        "    cnt=0\n",
        "    for i in range(1,len(lst)+1):\n",
        "        if i in lst[i-1]:\n",
        "            cnt+=1\n",
        "    return cnt"
      ],
      "execution_count": null,
      "outputs": []
    }
  ]
}
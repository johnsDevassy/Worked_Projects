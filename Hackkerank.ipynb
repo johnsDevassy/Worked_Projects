{
  "nbformat": 4,
  "nbformat_minor": 0,
  "metadata": {
    "colab": {
      "name": "Hackkerank.ipynb",
      "provenance": [],
      "authorship_tag": "ABX9TyODV06fCJCQks9f0EM2R++q",
      "include_colab_link": true
    },
    "kernelspec": {
      "name": "python3",
      "display_name": "Python 3"
    }
  },
  "cells": [
    {
      "cell_type": "markdown",
      "metadata": {
        "id": "view-in-github",
        "colab_type": "text"
      },
      "source": [
        "<a href=\"https://colab.research.google.com/github/johnsDevassy/Worked_Projects/blob/master/Hackkerank.ipynb\" target=\"_parent\"><img src=\"https://colab.research.google.com/assets/colab-badge.svg\" alt=\"Open In Colab\"/></a>"
      ]
    },
    {
      "cell_type": "markdown",
      "metadata": {
        "id": "VdgsNmg7mM-v"
      },
      "source": [
        "Lisa's Workbook Hackerrank\n",
        "\n",
        "https://www.hackerrank.com/challenges/lisa-workbook/problem\n",
        "\n"
      ]
    },
    {
      "cell_type": "code",
      "metadata": {
        "id": "tAYc2kbqlTNZ"
      },
      "source": [
        "def workbook(n, k, arr):\n",
        "    lst=[]\n",
        "    for j in range(0,n):\n",
        "        pr=[*range(1,arr[j]+1,1)]\n",
        "        print(pr)\n",
        "        f=0\n",
        "        l=k\n",
        "        for j in range(((arr[j]//k)+1) if arr[j]%k !=0 else (arr[j]//k)):\n",
        "            lst.append(pr[f:l])\n",
        "            f=l\n",
        "            l=min(l+k,len(pr))\n",
        "    cnt=0\n",
        "    for i in range(1,len(lst)+1):\n",
        "        if i in lst[i-1]:\n",
        "            cnt+=1\n",
        "    return cnt"
      ],
      "execution_count": null,
      "outputs": []
    },
    {
      "cell_type": "markdown",
      "metadata": {
        "id": "K0w3NcY30dbQ"
      },
      "source": [
        "Flat land space station\n",
        "\n",
        "https://www.hackerrank.com/challenges/flatland-space-stations/problem"
      ]
    },
    {
      "cell_type": "code",
      "metadata": {
        "id": "MYkISiK30dGO"
      },
      "source": [
        "def flatlandSpaceStations(n, c):\n",
        "    c.sort()\n",
        "    val=[]\n",
        "    j,f,l=0,0,0\n",
        "    print(c)\n",
        "    for i in range(len(c)-1):\n",
        "        f=c[i]\n",
        "        l=c[i+1]\n",
        "        for i in range(f,l):\n",
        "            val.append(min(i-f,l-i))\n",
        "    val.append((n-1)-l)\n",
        "    val.append(c[0])\n",
        "    return max(val)"
      ],
      "execution_count": null,
      "outputs": []
    },
    {
      "cell_type": "markdown",
      "metadata": {
        "id": "o_p9cpCnDBbU"
      },
      "source": [
        "Fair Rations\n",
        "\n",
        "https://www.hackerrank.com/challenges/fair-rations/problem\n"
      ]
    },
    {
      "cell_type": "code",
      "metadata": {
        "id": "g5T_5v-bDAqR"
      },
      "source": [
        "def fairRations(B):\n",
        "    f=0\n",
        "    l=len(B)-1\n",
        "    flag=False\n",
        "    count=0\n",
        "    while(f!=l):\n",
        "        if B[f]%2==1:\n",
        "            B[f]=B[f]+1\n",
        "            B[f+1]=B[f+1]+1\n",
        "            count+=2\n",
        "        f=f+1    \n",
        "        if f==l:\n",
        "            if B[f]%2==0:\n",
        "                flag=True\n",
        "            break\n",
        "        if B[l]%2==1:\n",
        "            B[l]=B[l]+1\n",
        "            B[l-1]=B[l-1]+1\n",
        "            count+=2\n",
        "        l=l-1\n",
        "        if f==l:\n",
        "            if B[l]%2==0:\n",
        "                flag=True\n",
        "            break\n",
        "    return \"NO\" if flag==False else count"
      ],
      "execution_count": null,
      "outputs": []
    }
  ]
}